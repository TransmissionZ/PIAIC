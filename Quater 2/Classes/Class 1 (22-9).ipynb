{
 "cells": [
  {
   "cell_type": "markdown",
   "metadata": {},
   "source": [
    "# Review Test Analysis"
   ]
  },
  {
   "cell_type": "code",
   "execution_count": 2,
   "metadata": {},
   "outputs": [],
   "source": [
    "# -Using Reviews\n",
    "#   -Gather Data and Save in a file(JSON).\n",
    "#   -Label the Data\n",
    "#   -Load Data in memory in a list(s)\n",
    "#   -Make a word list for positive and negative.\n",
    "#   -give input and get output\n",
    "#   -test output with original data\n",
    "#   -Calulate Accuracy.\n",
    "#   -Feed more reviews to increase accuracy using prediction\n",
    "#   -Try at HOME using split.\n",
    "# Ai_Anees_Ahmed - slack\n",
    "# AI AneedAhmed - FB\n",
    "# Beautiful Soup Data Scrapping.\n",
    "# Saylani@729\n"
   ]
  },
  {
   "cell_type": "markdown",
   "metadata": {},
   "source": [
    "# NumPy"
   ]
  },
  {
   "cell_type": "code",
   "execution_count": 3,
   "metadata": {},
   "outputs": [],
   "source": [
    "#Uses Arrays for direct access.\n",
    "#Linked Lists do not offer direct access\n",
    "#Arrays can be multiplied together using a * b where a and b are arrays.\n",
    "#nd-array: Data of same type, large datasets.\n",
    "#%time used for getting time of line execution/process."
   ]
  },
  {
   "cell_type": "code",
   "execution_count": 4,
   "metadata": {},
   "outputs": [],
   "source": [
    "import numpy as np\n",
    "a = np.arange(1000000)\n",
    "Mylist = list(range(1000000))"
   ]
  },
  {
   "cell_type": "code",
   "execution_count": 5,
   "metadata": {},
   "outputs": [
    {
     "name": "stdout",
     "output_type": "stream",
     "text": [
      "Wall time: 110 ms\n"
     ]
    }
   ],
   "source": [
    "%time for _ in range(10): a2 = a * 2 # CPU times: user 20 ms, sys: 50 ms, total: 70 ms Wall time: 72.4 ms"
   ]
  },
  {
   "cell_type": "code",
   "execution_count": 6,
   "metadata": {},
   "outputs": [
    {
     "name": "stdout",
     "output_type": "stream",
     "text": [
      "Wall time: 5.1 s\n"
     ]
    }
   ],
   "source": [
    "%time for _ in range(10): Mylist2 = [x * 2 for x in Mylist]# CPU time: user 760 ms, sys: 290ms, total: 1.05 s, Wall time: 1.05 s"
   ]
  },
  {
   "cell_type": "code",
   "execution_count": 7,
   "metadata": {},
   "outputs": [
    {
     "name": "stdout",
     "output_type": "stream",
     "text": [
      "[1 2 3 4]\n",
      "<class 'numpy.ndarray'>\n",
      "[2 3 4 5 6]\n",
      "<class 'list'>\n"
     ]
    }
   ],
   "source": [
    "#Creating nd-array\n",
    "#---slide...\n",
    "nd_array= np.array([1,2,3,4])\n",
    "print(nd_array)\n",
    "print(type(nd_array))\n",
    "\n",
    "list1 = [2,3,4,5,6]\n",
    "nd_arra = np.array(list1)\n",
    "print(nd_arra)\n",
    "print(type(list1))"
   ]
  },
  {
   "cell_type": "code",
   "execution_count": 8,
   "metadata": {},
   "outputs": [
    {
     "name": "stdout",
     "output_type": "stream",
     "text": [
      "[[0. 0. 0.]\n",
      " [0. 0. 0.]\n",
      " [0. 0. 0.]\n",
      " [0. 0. 0.]\n",
      " [0. 0. 0.]]\n"
     ]
    }
   ],
   "source": [
    "\n",
    "n_a = np.zeros([5,3])\n",
    "print(n_a)"
   ]
  },
  {
   "cell_type": "code",
   "execution_count": 9,
   "metadata": {},
   "outputs": [
    {
     "name": "stdout",
     "output_type": "stream",
     "text": [
      "[[1. 1.]]\n"
     ]
    }
   ],
   "source": [
    "n_b = np.ones([1,2])\n",
    "print(n_b)"
   ]
  },
  {
   "cell_type": "code",
   "execution_count": 10,
   "metadata": {},
   "outputs": [
    {
     "name": "stdout",
     "output_type": "stream",
     "text": [
      "[[1.37961981e-306 1.11258446e-306]\n",
      " [6.23059726e-307 9.34609790e-307]]\n"
     ]
    }
   ],
   "source": [
    "n_c = np.empty([2,2]) #Used to save time.\n",
    "print(n_c)"
   ]
  },
  {
   "cell_type": "code",
   "execution_count": 11,
   "metadata": {},
   "outputs": [
    {
     "name": "stdout",
     "output_type": "stream",
     "text": [
      "[0 1 2 3 4 5 6 7 8 9]\n"
     ]
    }
   ],
   "source": [
    "n_d = np.arange(10)\n",
    "print(n_d)"
   ]
  },
  {
   "cell_type": "code",
   "execution_count": 12,
   "metadata": {},
   "outputs": [
    {
     "name": "stdout",
     "output_type": "stream",
     "text": [
      "[[[[0. 0. 0. 0.]\n",
      "   [0. 0. 0. 0.]\n",
      "   [0. 0. 0. 0.]]\n",
      "\n",
      "  [[0. 0. 0. 0.]\n",
      "   [0. 0. 0. 0.]\n",
      "   [0. 0. 0. 0.]]]]\n"
     ]
    }
   ],
   "source": [
    "n_e = np.zeros([1,2,3,4]) #4-dimentional array\n",
    "print(n_e)"
   ]
  },
  {
   "cell_type": "code",
   "execution_count": 13,
   "metadata": {},
   "outputs": [],
   "source": [
    "#irus (phool) data\n",
    "#Data Scrapping\n",
    "#Git Video's and quiz. Will not be discussed in class."
   ]
  },
  {
   "cell_type": "markdown",
   "metadata": {},
   "source": [
    "# Attributes of Numpy"
   ]
  },
  {
   "cell_type": "code",
   "execution_count": 14,
   "metadata": {},
   "outputs": [
    {
     "name": "stdout",
     "output_type": "stream",
     "text": [
      "(3, 2, 4)\n",
      "float64\n",
      "3\n"
     ]
    }
   ],
   "source": [
    "#shape is a attribute so no bracket.\n",
    "na = np.zeros([3,2,4])\n",
    "print(na.shape)\n",
    "#dtype: NumPy Data Types\n",
    "print(na.dtype)\n",
    "#ndim: no. of dimensions\n",
    "print(na.ndim)\n",
    "\n",
    "#Always used along with object. No Parenthesis. "
   ]
  },
  {
   "cell_type": "code",
   "execution_count": null,
   "metadata": {},
   "outputs": [],
   "source": []
  }
 ],
 "metadata": {
  "kernelspec": {
   "display_name": "Python 3",
   "language": "python",
   "name": "python3"
  },
  "language_info": {
   "codemirror_mode": {
    "name": "ipython",
    "version": 3
   },
   "file_extension": ".py",
   "mimetype": "text/x-python",
   "name": "python",
   "nbconvert_exporter": "python",
   "pygments_lexer": "ipython3",
   "version": "3.7.3"
  }
 },
 "nbformat": 4,
 "nbformat_minor": 2
}
