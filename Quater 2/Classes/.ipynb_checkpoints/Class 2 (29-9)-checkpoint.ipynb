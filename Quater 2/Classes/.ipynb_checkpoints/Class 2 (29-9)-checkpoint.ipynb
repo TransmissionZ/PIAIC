{
 "cells": [
  {
   "cell_type": "code",
   "execution_count": 3,
   "metadata": {},
   "outputs": [],
   "source": [
    "import numpy as np"
   ]
  },
  {
   "cell_type": "code",
   "execution_count": null,
   "metadata": {},
   "outputs": [],
   "source": [
    "#TEXT TO NumPy"
   ]
  },
  {
   "cell_type": "code",
   "execution_count": 12,
   "metadata": {},
   "outputs": [
    {
     "name": "stdout",
     "output_type": "stream",
     "text": [
      "Study, pra\n",
      "<class 'numpy.ndarray'>\n",
      "['Study,' 'practice,' 'then' 'rest.' 'If' \"you're\" 'intent' 'on'\n",
      " 'mastering' 'the' 'fundamentals' 'of' 'Python,']\n"
     ]
    }
   ],
   "source": [
    "text = \"\"\"Study, practice, then rest. If you're intent on mastering the\n",
    "fundamentals of Python, as opposed to just getting a feel for the\n",
    "language, work with this book and the online exercises in a 15-to-25-\n",
    "minute session, then take a break. Study a chapter for 5 to 10 minutes.\n",
    "Immediately go to the online link given at the end of each chapter and\n",
    "code for 10 to 15 minutes, practicing the lesson until you've coded\n",
    "everything correctly. Then take a walk.\"\"\"\n",
    "\n",
    "print(text[:10])\n",
    "nptext = np.array(text.split())\n",
    "print(type(nptext))\n",
    "print(nptext[:13])"
   ]
  },
  {
   "cell_type": "code",
   "execution_count": 24,
   "metadata": {},
   "outputs": [
    {
     "name": "stdout",
     "output_type": "stream",
     "text": [
      "[ 1  2  3  4  5  6  7  8  9 10]\n"
     ]
    }
   ],
   "source": [
    "arr = np.arange(1,11)\n",
    "print(arr)"
   ]
  },
  {
   "cell_type": "code",
   "execution_count": 37,
   "metadata": {},
   "outputs": [
    {
     "name": "stdout",
     "output_type": "stream",
     "text": [
      "[[1 2 3 4]\n",
      " [1 5 list([1, 2, 4]) 6]]\n",
      "2 \n",
      " (2, 4)\n"
     ]
    }
   ],
   "source": [
    "#If NumPy Funtion = np.func\n",
    "#If NumPy Method = object.method\n",
    "\n",
    "arr1 = np.array([[1,2,3,4,], [1,5,[1,2,4],6]])\n",
    "print(arr1)\n",
    "#print(np.abs(arr1))\n",
    "print(arr1.ndim, \"\\n\",arr1.shape)"
   ]
  },
  {
   "cell_type": "code",
   "execution_count": 100,
   "metadata": {},
   "outputs": [
    {
     "name": "stdout",
     "output_type": "stream",
     "text": [
      "(4, 2, 3, 2)\n",
      "size 48\n",
      "Dimensions 4\n"
     ]
    }
   ],
   "source": [
    "arr2 = np.array([\n",
    "    [\n",
    "        [\n",
    "            [1111,1112],[1121,1122],[1131,1132]\n",
    "        ],\n",
    "        [\n",
    "            [1211,1212],[1221,1222],[1231,1232]\n",
    "        ],\n",
    "    ],\n",
    "    [\n",
    "        [\n",
    "            [2111,2112],[2121,2122],[2131,2132]\n",
    "        ],\n",
    "        [\n",
    "            [2211,2212],[2221,2222],[2231,2232]\n",
    "        ]\n",
    "    ],\n",
    "    [\n",
    "        [\n",
    "            [3111,3112],[3121,3122],[3131,3132]\n",
    "        ],\n",
    "        [\n",
    "            [3211,3212],[3221,3222],[3231,3232]\n",
    "        ]\n",
    "    ],\n",
    "    [\n",
    "        [\n",
    "            [4111,4112],[4121,4122],[4131,4132]\n",
    "        ],\n",
    "        [\n",
    "            [4211,4212],[4221,4222],[4231,4232]\n",
    "        ]\n",
    "    ]\n",
    "])\n",
    "\n",
    "print(arr2.shape)\n",
    "print(\"size\", arr2.size)\n",
    "print(\"Dimensions\", arr2.ndim).0"
   ]
  },
  {
   "cell_type": "code",
   "execution_count": 101,
   "metadata": {},
   "outputs": [
    {
     "name": "stdout",
     "output_type": "stream",
     "text": [
      "2111\n"
     ]
    }
   ],
   "source": [
    "print(arr2[1,0,0,0])"
   ]
  },
  {
   "cell_type": "code",
   "execution_count": 102,
   "metadata": {},
   "outputs": [],
   "source": [
    "#IMAGE to Numpy"
   ]
  },
  {
   "cell_type": "code",
   "execution_count": 196,
   "metadata": {},
   "outputs": [
    {
     "ename": "AttributeError",
     "evalue": "'numpy.ndarray' object has no attribute 'pltread'",
     "output_type": "error",
     "traceback": [
      "\u001b[1;31m---------------------------------------------------------------------------\u001b[0m",
      "\u001b[1;31mAttributeError\u001b[0m                            Traceback (most recent call last)",
      "\u001b[1;32m<ipython-input-196-b4ecd8c8dda3>\u001b[0m in \u001b[0;36m<module>\u001b[1;34m\u001b[0m\n\u001b[0;32m      1\u001b[0m \u001b[0mget_ipython\u001b[0m\u001b[1;33m(\u001b[0m\u001b[1;33m)\u001b[0m\u001b[1;33m.\u001b[0m\u001b[0mrun_line_magic\u001b[0m\u001b[1;33m(\u001b[0m\u001b[1;34m'matplotlib'\u001b[0m\u001b[1;33m,\u001b[0m \u001b[1;34m'inline'\u001b[0m\u001b[1;33m)\u001b[0m\u001b[1;33m\u001b[0m\u001b[1;33m\u001b[0m\u001b[0m\n\u001b[1;32m----> 2\u001b[1;33m \u001b[0mim\u001b[0m \u001b[1;33m=\u001b[0m \u001b[0mim\u001b[0m\u001b[1;33m.\u001b[0m\u001b[0mpltread\u001b[0m\u001b[1;33m(\u001b[0m\u001b[1;34m\"names.PNG\"\u001b[0m\u001b[1;33m)\u001b[0m\u001b[1;33m\u001b[0m\u001b[1;33m\u001b[0m\u001b[0m\n\u001b[0m\u001b[0;32m      3\u001b[0m \u001b[0mprint\u001b[0m\u001b[1;33m(\u001b[0m\u001b[0mtype\u001b[0m\u001b[1;33m(\u001b[0m\u001b[0mim\u001b[0m\u001b[1;33m.\u001b[0m\u001b[0mshape\u001b[0m\u001b[1;33m)\u001b[0m\u001b[1;33m)\u001b[0m\u001b[1;33m\u001b[0m\u001b[1;33m\u001b[0m\u001b[0m\n",
      "\u001b[1;31mAttributeError\u001b[0m: 'numpy.ndarray' object has no attribute 'pltread'"
     ]
    }
   ],
   "source": [
    "%matplotlib inline\n",
    "im = im.pltread(\"names.PNG\")\n",
    "print(type(im.shape))"
   ]
  },
  {
   "cell_type": "code",
   "execution_count": 111,
   "metadata": {},
   "outputs": [],
   "source": [
    "#Vectorization"
   ]
  },
  {
   "cell_type": "code",
   "execution_count": 122,
   "metadata": {},
   "outputs": [
    {
     "name": "stdout",
     "output_type": "stream",
     "text": [
      "['Here', 'are', 'some', 'of', 'the', 'things', \"you'll\", 'love']\n",
      "testing\n",
      "['Here' 'are' 'some' 'of' 'the' 'things' \"you'll\" 'love']\n",
      "['Here' 'are' 'some' 'of' 'the' 'love']\n",
      "8\n"
     ]
    }
   ],
   "source": [
    "text = \"Here are some of the things you'll love\"\n",
    "l = text.split(\" \")\n",
    "print(l)\n",
    "arr3 = np.array(text.split(\" \"))\n",
    "prn = print #Function can be given to a variable.\n",
    "prn(\"testing\")\n",
    "print(arr3)\n",
    "lnth = np.vectorize(len)\n",
    "print(arr3[lnth(arr3)<5])\n",
    "print(len(arr3))"
   ]
  },
  {
   "cell_type": "code",
   "execution_count": 148,
   "metadata": {},
   "outputs": [
    {
     "name": "stdout",
     "output_type": "stream",
     "text": [
      "[90]\n",
      "[162 168 180]\n",
      "[False False False]\n"
     ]
    }
   ],
   "source": [
    "arr4 = np.array([12,13,15])\n",
    "a = arr4*6\n",
    "b = arr4[-1:]*6\n",
    "c = a + b\n",
    "print(b)\n",
    "#broadcasting: row size should be same.\n",
    "print(a+b)\n",
    "\n",
    "e= (b==c)\n",
    "print(e)"
   ]
  },
  {
   "cell_type": "code",
   "execution_count": 155,
   "metadata": {},
   "outputs": [
    {
     "name": "stdout",
     "output_type": "stream",
     "text": [
      "[[False False  True]\n",
      " [False False  True]]\n",
      "[20 10]\n"
     ]
    }
   ],
   "source": [
    "e = np.array([[12,13,10],[1,4,5]])\n",
    "j = np.array([[15,3,10],[12,6,5]])\n",
    "boolean_z = (e==j)\n",
    "print(boolean_z)\n",
    "k = e + j\n",
    "kFilter = k[boolean_z] #Use k ONLY!\n",
    "print(kFilter)"
   ]
  },
  {
   "cell_type": "code",
   "execution_count": 161,
   "metadata": {},
   "outputs": [
    {
     "name": "stdout",
     "output_type": "stream",
     "text": [
      "[[27 16 20]\n",
      " [13 10 10]]\n",
      "[[False False False]\n",
      " [ True  True  True]]\n"
     ]
    }
   ],
   "source": [
    "print(k)\n",
    "boolean_j = (k< 15)\n",
    "print(boolean_j)"
   ]
  },
  {
   "cell_type": "code",
   "execution_count": 166,
   "metadata": {},
   "outputs": [
    {
     "name": "stdout",
     "output_type": "stream",
     "text": [
      "[[15  3 10]\n",
      " [12  6  5]]\n",
      "()\n",
      "[12  6  5]\n"
     ]
    }
   ],
   "source": [
    "print(j)\n",
    "boolean_j = ()\n",
    "print(boolean_j)\n",
    "jFilter = j[k<15] #shortcut\n",
    "print(jFilter)"
   ]
  },
  {
   "cell_type": "code",
   "execution_count": 167,
   "metadata": {},
   "outputs": [],
   "source": [
    "#Indexing and Fancy Indexing"
   ]
  },
  {
   "cell_type": "code",
   "execution_count": 187,
   "metadata": {},
   "outputs": [
    {
     "name": "stdout",
     "output_type": "stream",
     "text": [
      "6\n",
      "[  6 -11 -34]\n",
      "\n",
      "\n",
      " [  6 -11 -34]\n"
     ]
    },
    {
     "ename": "IndexError",
     "evalue": "too many indices for array",
     "output_type": "error",
     "traceback": [
      "\u001b[1;31m---------------------------------------------------------------------------\u001b[0m",
      "\u001b[1;31mIndexError\u001b[0m                                Traceback (most recent call last)",
      "\u001b[1;32m<ipython-input-187-996e96576848>\u001b[0m in \u001b[0;36m<module>\u001b[1;34m\u001b[0m\n\u001b[0;32m      5\u001b[0m \u001b[0mprint\u001b[0m\u001b[1;33m(\u001b[0m\u001b[0marr5\u001b[0m\u001b[1;33m[\u001b[0m\u001b[0mind\u001b[0m\u001b[1;33m]\u001b[0m\u001b[1;33m)\u001b[0m\u001b[1;33m\u001b[0m\u001b[1;33m\u001b[0m\u001b[0m\n\u001b[0;32m      6\u001b[0m \u001b[0mprint\u001b[0m\u001b[1;33m(\u001b[0m\u001b[1;34m\"\\n\\n\"\u001b[0m\u001b[1;33m,\u001b[0m \u001b[0marr5\u001b[0m\u001b[1;33m[\u001b[0m\u001b[1;33m[\u001b[0m\u001b[1;36m4\u001b[0m\u001b[1;33m,\u001b[0m\u001b[1;36m5\u001b[0m\u001b[1;33m,\u001b[0m\u001b[1;36m9\u001b[0m\u001b[1;33m]\u001b[0m\u001b[1;33m]\u001b[0m\u001b[1;33m)\u001b[0m\u001b[1;33m\u001b[0m\u001b[1;33m\u001b[0m\u001b[0m\n\u001b[1;32m----> 7\u001b[1;33m \u001b[0mprint\u001b[0m\u001b[1;33m(\u001b[0m\u001b[1;34m\"\\n\\n\"\u001b[0m\u001b[1;33m,\u001b[0m \u001b[0marr5\u001b[0m\u001b[1;33m[\u001b[0m\u001b[1;36m4\u001b[0m\u001b[1;33m:\u001b[0m\u001b[1;36m6\u001b[0m\u001b[1;33m,\u001b[0m \u001b[1;33m:\u001b[0m\u001b[1;36m9\u001b[0m\u001b[1;33m]\u001b[0m\u001b[1;33m)\u001b[0m\u001b[1;31m#For Multiple dimensions use comma.\u001b[0m\u001b[1;33m\u001b[0m\u001b[1;33m\u001b[0m\u001b[0m\n\u001b[0m",
      "\u001b[1;31mIndexError\u001b[0m: too many indices for array"
     ]
    }
   ],
   "source": [
    "arr5 = np.array([1,2,4,5,6,-11,13,-113,10,-34])\n",
    "print(arr5[4])\n",
    "#Fancy\n",
    "ind = [4,5,9]\n",
    "print(arr5[ind])\n",
    "print(\"\\n\\n\", arr5[[4,5,9]])\n",
    "print(\"\\n\\n\", arr5[4:6, :9])#For Multiple dimensions use comma."
   ]
  },
  {
   "cell_type": "code",
   "execution_count": null,
   "metadata": {},
   "outputs": [],
   "source": []
  }
 ],
 "metadata": {
  "kernelspec": {
   "display_name": "Python 3",
   "language": "python",
   "name": "python3"
  },
  "language_info": {
   "codemirror_mode": {
    "name": "ipython",
    "version": 3
   },
   "file_extension": ".py",
   "mimetype": "text/x-python",
   "name": "python",
   "nbconvert_exporter": "python",
   "pygments_lexer": "ipython3",
   "version": "3.7.3"
  }
 },
 "nbformat": 4,
 "nbformat_minor": 2
}
