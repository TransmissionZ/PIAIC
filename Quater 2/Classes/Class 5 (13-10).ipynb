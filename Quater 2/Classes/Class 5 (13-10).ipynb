{
 "cells": [
  {
   "cell_type": "code",
   "execution_count": 1,
   "metadata": {},
   "outputs": [],
   "source": [
    "#Pandas"
   ]
  },
  {
   "cell_type": "code",
   "execution_count": 2,
   "metadata": {},
   "outputs": [],
   "source": [
    "#Series for Single Dimension\n",
    "#Dataframe for Multiple Dimension"
   ]
  },
  {
   "cell_type": "code",
   "execution_count": 3,
   "metadata": {},
   "outputs": [],
   "source": [
    "#Series:\n",
    "import pandas as pd"
   ]
  },
  {
   "cell_type": "code",
   "execution_count": 4,
   "metadata": {},
   "outputs": [
    {
     "name": "stdout",
     "output_type": "stream",
     "text": [
      "0    3\n",
      "1    1\n",
      "2   -2\n",
      "3    5\n",
      "dtype: int64\n"
     ]
    }
   ],
   "source": [
    "obj = pd.Series([3,1,-2,5])\n",
    "print(obj)"
   ]
  },
  {
   "cell_type": "code",
   "execution_count": 10,
   "metadata": {},
   "outputs": [
    {
     "name": "stdout",
     "output_type": "stream",
     "text": [
      "jan      100\n",
      "feb      200\n",
      "march    100\n",
      "aug      400\n",
      "dtype: int64\n",
      "Index(['jan', 'feb', 'march', 'aug'], dtype='object')\n",
      "[100 200 100 400]\n"
     ]
    }
   ],
   "source": [
    "sales = pd.Series([100,200,100,400], index = ['jan', 'feb', 'march', 'aug'])\n",
    "print(sales)\n",
    "print(sales.index)\n",
    "print(sales.values)"
   ]
  },
  {
   "cell_type": "code",
   "execution_count": 18,
   "metadata": {},
   "outputs": [
    {
     "name": "stdout",
     "output_type": "stream",
     "text": [
      "January\n",
      "[1, 2, 3, 4, 5, 6, 7]\n",
      "1    10\n",
      "2    20\n",
      "3    30\n",
      "4    40\n",
      "5    50\n",
      "6    60\n",
      "7    70\n",
      "dtype: int64\n"
     ]
    }
   ],
   "source": [
    "import calendar as cal\n",
    "print(cal.month_name[1])\n",
    "d = list(range(1,8))\n",
    "print(d)\n",
    "sw = pd.Series([10,20,30,40,50,60,70], index = d)\n",
    "print(sw)\n",
    "\n",
    "#Do same with month"
   ]
  },
  {
   "cell_type": "code",
   "execution_count": 20,
   "metadata": {},
   "outputs": [
    {
     "name": "stdout",
     "output_type": "stream",
     "text": [
      "3    30\n",
      "5    50\n",
      "dtype: int64\n",
      "[2    20\n",
      "3    30\n",
      "dtype: int64]\n"
     ]
    }
   ],
   "source": [
    "print(sw[[3,5]])\n",
    "print([sw[[2,3]]])"
   ]
  },
  {
   "cell_type": "code",
   "execution_count": 23,
   "metadata": {},
   "outputs": [
    {
     "name": "stdout",
     "output_type": "stream",
     "text": [
      "2    20\n",
      "dtype: int64\n"
     ]
    }
   ],
   "source": [
    "print(sw[[2]])"
   ]
  },
  {
   "cell_type": "code",
   "execution_count": 24,
   "metadata": {},
   "outputs": [
    {
     "name": "stdout",
     "output_type": "stream",
     "text": [
      "1     20\n",
      "2     40\n",
      "3     60\n",
      "4     80\n",
      "5    100\n",
      "6    120\n",
      "7    140\n",
      "dtype: int64\n"
     ]
    }
   ],
   "source": [
    "print(sw*2)"
   ]
  },
  {
   "cell_type": "code",
   "execution_count": 25,
   "metadata": {},
   "outputs": [
    {
     "data": {
      "text/plain": [
       "True"
      ]
     },
     "execution_count": 25,
     "metadata": {},
     "output_type": "execute_result"
    }
   ],
   "source": [
    "1 in sw"
   ]
  },
  {
   "cell_type": "code",
   "execution_count": 27,
   "metadata": {},
   "outputs": [
    {
     "data": {
      "text/plain": [
       "False"
      ]
     },
     "execution_count": 27,
     "metadata": {},
     "output_type": "execute_result"
    }
   ],
   "source": [
    "'mon' in sw"
   ]
  },
  {
   "cell_type": "code",
   "execution_count": 30,
   "metadata": {},
   "outputs": [
    {
     "name": "stdout",
     "output_type": "stream",
     "text": [
      "a    1\n",
      "b    2\n",
      "c    3\n",
      "d    4\n",
      "e    5\n",
      "f    6\n",
      "dtype: int32\n"
     ]
    }
   ],
   "source": [
    "#taking input from numpy\n",
    "import numpy as np\n",
    "ar = np.array([1,2,3,4,5,6])\n",
    "ind = np.array(['a', 'b', 'c', 'd', 'e', 'f'])\n",
    "S = pd.Series(ar, index = ind)\n",
    "print(S)"
   ]
  },
  {
   "cell_type": "code",
   "execution_count": 35,
   "metadata": {},
   "outputs": [
    {
     "name": "stdout",
     "output_type": "stream",
     "text": [
      "punjab    10000.0\n",
      "sindh      3500.0\n",
      "GB            NaN\n",
      "dtype: float64\n",
      "Index(['punjab', 'sindh', 'GB'], dtype='object')\n",
      "punjab    False\n",
      "sindh     False\n",
      "GB         True\n",
      "dtype: bool\n"
     ]
    }
   ],
   "source": [
    "sData = {\"sindh\": 3500, \"punjab\": 10000}\n",
    "tax_by_state = pd.Series(sData, index = [\"punjab\",\"sindh\", \"GB\"])#GB for NaN\n",
    "print(tax_by_state)\n",
    "print(tax_by_state.index)\n",
    "print(pd.isnull(tax_by_state))"
   ]
  },
  {
   "cell_type": "code",
   "execution_count": 37,
   "metadata": {},
   "outputs": [],
   "source": [
    "#Read Agile Strum (project management)"
   ]
  },
  {
   "cell_type": "code",
   "execution_count": 38,
   "metadata": {},
   "outputs": [],
   "source": [
    "#sw.index = [] to change index"
   ]
  },
  {
   "cell_type": "code",
   "execution_count": 39,
   "metadata": {},
   "outputs": [],
   "source": [
    "#DataFrame: There is seperate index for row and column."
   ]
  },
  {
   "cell_type": "code",
   "execution_count": null,
   "metadata": {},
   "outputs": [],
   "source": []
  }
 ],
 "metadata": {
  "kernelspec": {
   "display_name": "Python 3",
   "language": "python",
   "name": "python3"
  },
  "language_info": {
   "codemirror_mode": {
    "name": "ipython",
    "version": 3
   },
   "file_extension": ".py",
   "mimetype": "text/x-python",
   "name": "python",
   "nbconvert_exporter": "python",
   "pygments_lexer": "ipython3",
   "version": "3.7.3"
  }
 },
 "nbformat": 4,
 "nbformat_minor": 2
}
