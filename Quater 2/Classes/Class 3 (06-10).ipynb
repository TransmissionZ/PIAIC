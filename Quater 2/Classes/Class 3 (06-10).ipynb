{
 "cells": [
  {
   "cell_type": "code",
   "execution_count": 10,
   "metadata": {},
   "outputs": [
    {
     "name": "stdout",
     "output_type": "stream",
     "text": [
      "['How' 'dare' 'you!' 'You' \"can't\" 'do' 'that!']\n",
      "['How' 'You' 'do']\n"
     ]
    }
   ],
   "source": [
    "#Vectorization\n",
    "import numpy as np\n",
    "text1 = \"How dare you! You can't do that!\"\n",
    "arr = np.array(text1.split(\" \"))\n",
    "print(arr)\n",
    "#lnth = np.vectorize(len)\n",
    "#print(arr[lnth(arr)<4])\n",
    "print(arr[(np.vectorize(len)) (arr) < 4])"
   ]
  },
  {
   "cell_type": "code",
   "execution_count": 44,
   "metadata": {},
   "outputs": [
    {
     "name": "stdout",
     "output_type": "stream",
     "text": [
      "(5, 4, 3, 2)\n",
      "[[[[5. 5.]\n",
      "   [0. 0.]\n",
      "   [0. 0.]]\n",
      "\n",
      "  [[5. 5.]\n",
      "   [0. 0.]\n",
      "   [0. 0.]]\n",
      "\n",
      "  [[5. 5.]\n",
      "   [0. 0.]\n",
      "   [0. 0.]]\n",
      "\n",
      "  [[5. 5.]\n",
      "   [0. 0.]\n",
      "   [0. 0.]]]\n",
      "\n",
      "\n",
      " [[[5. 5.]\n",
      "   [0. 0.]\n",
      "   [0. 0.]]\n",
      "\n",
      "  [[5. 5.]\n",
      "   [0. 0.]\n",
      "   [0. 0.]]\n",
      "\n",
      "  [[5. 5.]\n",
      "   [0. 0.]\n",
      "   [0. 0.]]\n",
      "\n",
      "  [[5. 5.]\n",
      "   [0. 0.]\n",
      "   [0. 0.]]]\n",
      "\n",
      "\n",
      " [[[5. 5.]\n",
      "   [0. 0.]\n",
      "   [0. 0.]]\n",
      "\n",
      "  [[5. 5.]\n",
      "   [0. 0.]\n",
      "   [0. 0.]]\n",
      "\n",
      "  [[5. 5.]\n",
      "   [0. 0.]\n",
      "   [0. 0.]]\n",
      "\n",
      "  [[5. 5.]\n",
      "   [0. 0.]\n",
      "   [0. 0.]]]\n",
      "\n",
      "\n",
      " [[[5. 5.]\n",
      "   [0. 0.]\n",
      "   [0. 0.]]\n",
      "\n",
      "  [[5. 5.]\n",
      "   [0. 0.]\n",
      "   [0. 0.]]\n",
      "\n",
      "  [[5. 5.]\n",
      "   [0. 0.]\n",
      "   [0. 0.]]\n",
      "\n",
      "  [[5. 5.]\n",
      "   [0. 0.]\n",
      "   [0. 0.]]]\n",
      "\n",
      "\n",
      " [[[5. 5.]\n",
      "   [0. 0.]\n",
      "   [0. 0.]]\n",
      "\n",
      "  [[5. 5.]\n",
      "   [0. 0.]\n",
      "   [0. 0.]]\n",
      "\n",
      "  [[5. 5.]\n",
      "   [0. 0.]\n",
      "   [0. 0.]]\n",
      "\n",
      "  [[5. 5.]\n",
      "   [0. 0.]\n",
      "   [0. 0.]]]]\n"
     ]
    }
   ],
   "source": [
    "arr2 = np.zeros([5,4,3,2])\n",
    "arr2[:,:,:1,:] = 5\n",
    "print(arr2.shape)\n",
    "print(arr2)"
   ]
  },
  {
   "cell_type": "code",
   "execution_count": 51,
   "metadata": {},
   "outputs": [],
   "source": [
    "#np.fabs? - Opens Documentation - float absolute\n",
    "np.fabs?"
   ]
  },
  {
   "cell_type": "code",
   "execution_count": 55,
   "metadata": {},
   "outputs": [
    {
     "data": {
      "text/plain": [
       "array([1, 1])"
      ]
     },
     "execution_count": 55,
     "metadata": {},
     "output_type": "execute_result"
    }
   ],
   "source": [
    "np.abs([-1,1])"
   ]
  },
  {
   "cell_type": "code",
   "execution_count": 75,
   "metadata": {},
   "outputs": [
    {
     "data": {
      "text/plain": [
       "array([10, 20, 30, 40, 50,  6,  7,  8,  9, 10])"
      ]
     },
     "execution_count": 75,
     "metadata": {},
     "output_type": "execute_result"
    }
   ],
   "source": [
    "arr3 = np.arange(1,11)\n",
    "#np.where?\n",
    "np.where(arr3>5, arr3, arr3*10)"
   ]
  },
  {
   "cell_type": "code",
   "execution_count": 86,
   "metadata": {},
   "outputs": [
    {
     "name": "stdout",
     "output_type": "stream",
     "text": [
      "5.5\n",
      "[ 1  3  6 10 15 21 28 36 45 55]\n",
      "[      1       2       6      24     120     720    5040   40320  362880\n",
      " 3628800]\n",
      "55\n",
      "True\n",
      "True\n"
     ]
    }
   ],
   "source": [
    "#arr.transpose - Inverse Dimensions(Columns = rows and vice versa)\n",
    "#mean()\n",
    "#cumsum()\n",
    "#cumprod()\n",
    "print(arr3.mean())\n",
    "print(arr3.cumsum())\n",
    "print(arr3.cumprod())\n",
    "print(arr3.sum())\n",
    "print(arr3.any())\n",
    "print(arr3.all())"
   ]
  },
  {
   "cell_type": "code",
   "execution_count": 112,
   "metadata": {},
   "outputs": [],
   "source": [
    "boolarr = [arr3 > 0]\n",
    "any(arr3 < 11)\n",
    "any?"
   ]
  },
  {
   "cell_type": "code",
   "execution_count": 113,
   "metadata": {},
   "outputs": [],
   "source": [
    "all(arr3==99)\n",
    "all?"
   ]
  },
  {
   "cell_type": "code",
   "execution_count": 114,
   "metadata": {},
   "outputs": [
    {
     "data": {
      "text/plain": [
       "55"
      ]
     },
     "execution_count": 114,
     "metadata": {},
     "output_type": "execute_result"
    }
   ],
   "source": [
    "np.sum(arr3)"
   ]
  },
  {
   "cell_type": "code",
   "execution_count": 117,
   "metadata": {},
   "outputs": [
    {
     "data": {
      "text/plain": [
       "array([0.])"
      ]
     },
     "execution_count": 117,
     "metadata": {},
     "output_type": "execute_result"
    }
   ],
   "source": [
    "arr4 = np.zeros(5)\n",
    "np.unique(arr4) #Returns Unique and SORTED Value"
   ]
  },
  {
   "cell_type": "code",
   "execution_count": 118,
   "metadata": {},
   "outputs": [],
   "source": [
    "np.save? #Data is saved and file is created."
   ]
  },
  {
   "cell_type": "code",
   "execution_count": 124,
   "metadata": {},
   "outputs": [
    {
     "name": "stdout",
     "output_type": "stream",
     "text": [
      "[ 10  20  30  40  50  60  70  80  90 100]\n"
     ]
    }
   ],
   "source": [
    "np.save(\"abc\", arr3)\n",
    "arr3 = arr3*10\n",
    "print(arr3)"
   ]
  },
  {
   "cell_type": "code",
   "execution_count": 125,
   "metadata": {},
   "outputs": [
    {
     "data": {
      "text/plain": [
       "array([ 1,  2,  3,  4,  5,  6,  7,  8,  9, 10])"
      ]
     },
     "execution_count": 125,
     "metadata": {},
     "output_type": "execute_result"
    }
   ],
   "source": [
    "np.load('abc.npy')"
   ]
  },
  {
   "cell_type": "code",
   "execution_count": 142,
   "metadata": {},
   "outputs": [],
   "source": [
    "np.savez?\n",
    "np.savez('savezfile', a = arr3, b = arr3+10, c = arr3*10)"
   ]
  },
  {
   "cell_type": "code",
   "execution_count": 148,
   "metadata": {},
   "outputs": [
    {
     "name": "stdout",
     "output_type": "stream",
     "text": [
      "[ 10  20  30  40  50  60  70  80  90 100]\n",
      "[ 20  30  40  50  60  70  80  90 100 110]\n",
      "[ 100  200  300  400  500  600  700  800  900 1000]\n"
     ]
    }
   ],
   "source": [
    "dic = np.load('savezfile.npz')\n",
    "print(dic['a'])\n",
    "print(dic['b'])\n",
    "print(dic['c'])"
   ]
  },
  {
   "cell_type": "code",
   "execution_count": 165,
   "metadata": {},
   "outputs": [
    {
     "name": "stdout",
     "output_type": "stream",
     "text": [
      "[0.07630829 0.77991879 0.43840923]\n"
     ]
    }
   ],
   "source": [
    "arr4 = np.arange(1,5)\n",
    "np.random.seed(7) #Saves Random number in seed 7\n",
    "perm = np.random.rand(3)\n",
    "print(perm)"
   ]
  },
  {
   "cell_type": "code",
   "execution_count": 166,
   "metadata": {},
   "outputs": [
    {
     "name": "stdout",
     "output_type": "stream",
     "text": [
      "[0.72346518 0.97798951 0.53849587]\n",
      "[0.07630829 0.77991879 0.43840923]\n"
     ]
    }
   ],
   "source": [
    "#np.random.seed(7)\n",
    "perm = np.random.rand(3) #Called without seed.\n",
    "print(perm)\n",
    "np.random.seed(7) #Called with seed\n",
    "perm = np.random.rand(3)\n",
    "print(perm)"
   ]
  },
  {
   "cell_type": "code",
   "execution_count": 167,
   "metadata": {},
   "outputs": [
    {
     "name": "stdout",
     "output_type": "stream",
     "text": [
      "[1 2 3 4]\n",
      "[[1 3]\n",
      " [2 4]]\n"
     ]
    }
   ],
   "source": [
    "print(arr4)\n",
    "print(arr4.reshape((2,2),order = \"F\")) #Fortans order"
   ]
  },
  {
   "cell_type": "code",
   "execution_count": 176,
   "metadata": {},
   "outputs": [],
   "source": [
    "#np.concatenate(arr4, axis = 0)\n",
    "#np.vstack?\n",
    "#np.hstack?"
   ]
  },
  {
   "cell_type": "code",
   "execution_count": 191,
   "metadata": {},
   "outputs": [
    {
     "name": "stdout",
     "output_type": "stream",
     "text": [
      "[array([10, 20]), array([30, 40, 50, 60, 70]), array([ 80,  90, 100, 110, 120, 130, 140, 150, 160, 170, 180, 190])]\n"
     ]
    }
   ],
   "source": [
    "arr5 = np.arange(10,200,10)\n",
    "print(np.split(arr5, [2,7]))"
   ]
  },
  {
   "cell_type": "code",
   "execution_count": 196,
   "metadata": {},
   "outputs": [
    {
     "name": "stdout",
     "output_type": "stream",
     "text": [
      "[array([10, 20]), array([30, 40]), array([50, 60]), array([70, 80]), array([ 90, 100, 110, 120, 130, 140, 150, 160, 170, 180, 190])]\n",
      "\n",
      "\n",
      "[10 20]\n",
      "[30 40]\n",
      "[50 60]\n",
      "[70 80]\n",
      "[ 90 100 110 120 130 140 150 160 170 180 190]\n"
     ]
    }
   ],
   "source": [
    "arr6 = np.split(arr5,[2,4,6,8])\n",
    "print(arr6)\n",
    "a,b,c,d,e = arr6\n",
    "print(\"\\n\")\n",
    "\n",
    "print(a) #print(arr6[0])\n",
    "print(b)\n",
    "print(c)\n",
    "print(d)\n",
    "print(e)"
   ]
  },
  {
   "cell_type": "code",
   "execution_count": 220,
   "metadata": {},
   "outputs": [
    {
     "name": "stdout",
     "output_type": "stream",
     "text": [
      "<class 'numpy.ndarray'>\n",
      "(371, 1273, 4)\n",
      "[[[1.         1.         1.         0.87058824]\n",
      "  [1.         1.         1.         0.87058824]\n",
      "  [1.         1.         1.         0.98823529]\n",
      "  [1.         1.         1.         1.        ]\n",
      "  [0.99607843 0.99607843 0.99607843 0.96078432]]\n",
      "\n",
      " [[1.         1.         1.         0.87058824]\n",
      "  [1.         1.         1.         0.87058824]\n",
      "  [1.         1.         1.         0.98823529]\n",
      "  [1.         1.         1.         1.        ]\n",
      "  [0.99607843 0.99607843 0.99607843 0.96078432]]\n",
      "\n",
      " [[1.         1.         1.         0.93333334]\n",
      "  [1.         1.         1.         0.93333334]\n",
      "  [1.         1.         1.         1.        ]\n",
      "  [1.         1.         1.         1.        ]\n",
      "  [0.98039216 0.98039216 0.98039216 1.        ]]]\n"
     ]
    }
   ],
   "source": [
    "import matplotlib.pylab as plt\n",
    "im = plt.imread(\"names.PNG\")\n",
    "print(type(im))\n",
    "print(im.shape)\n",
    "#print(im[:,:,:])\n",
    "photos = np.zeros([20,371,1273,4])\n",
    "photos[0] = im\n",
    "print(photos[0][:3,:5,:4]) #Storing Photo in Array\n",
    "#Library PIL and os (Download 20 pics and resize to 512,512,3) (Use Files Names as Array or some kahani)"
   ]
  },
  {
   "cell_type": "code",
   "execution_count": null,
   "metadata": {},
   "outputs": [],
   "source": []
  }
 ],
 "metadata": {
  "kernelspec": {
   "display_name": "Python 3",
   "language": "python",
   "name": "python3"
  },
  "language_info": {
   "codemirror_mode": {
    "name": "ipython",
    "version": 3
   },
   "file_extension": ".py",
   "mimetype": "text/x-python",
   "name": "python",
   "nbconvert_exporter": "python",
   "pygments_lexer": "ipython3",
   "version": "3.7.3"
  }
 },
 "nbformat": 4,
 "nbformat_minor": 2
}
