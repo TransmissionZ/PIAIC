{
 "cells": [
  {
   "cell_type": "code",
   "execution_count": 1,
   "metadata": {},
   "outputs": [],
   "source": [
    "from bs4 import BeautifulSoup as soup\n",
    "from urllib.request import urlopen as uReq\n",
    "import urllib.request\n",
    "\n",
    "uClient = uReq(\"https://bookirea.com/marquee/galaxy-royal-hall-1?date=27-10-2019&Timings=\")\n",
    "all_web = uClient.read()\n",
    "uClient.close()\n",
    "page_soup = soup(all_web, \"html.parser\")\n",
    "container = page_soup.find(\"div\", {\"class\":\"demo\"})\n",
    "ul = container.find_next('ul').find_all('li')\n",
    "n = 0\n",
    "for image in ul:\n",
    "    n = n+1\n",
    "    i = image.img['data-src']\n",
    "    file_name = \"galaxy_\" + str(n) + \".jpg\"\n",
    "    urllib.request.urlretrieve(i, file_name)"
   ]
  },
  {
   "cell_type": "markdown",
   "metadata": {},
   "source": []
  }
 ],
 "metadata": {
  "kernelspec": {
   "display_name": "Python 3",
   "language": "python",
   "name": "python3"
  },
  "language_info": {
   "codemirror_mode": {
    "name": "ipython",
    "version": 3
   },
   "file_extension": ".py",
   "mimetype": "text/x-python",
   "name": "python",
   "nbconvert_exporter": "python",
   "pygments_lexer": "ipython3",
   "version": "3.7.3"
  }
 },
 "nbformat": 4,
 "nbformat_minor": 2
}
