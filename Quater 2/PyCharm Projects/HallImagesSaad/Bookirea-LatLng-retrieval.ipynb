{
 "cells": [
  {
   "cell_type": "code",
   "execution_count": 64,
   "metadata": {},
   "outputs": [
    {
     "name": "stdout",
     "output_type": "stream",
     "text": [
      "['', '']\n"
     ]
    }
   ],
   "source": [
    "from bs4 import BeautifulSoup as soup\n",
    "from urllib.request import urlopen as uReq\n",
    "import urllib.request\n",
    "import csv\n",
    "row = []\n",
    "\n",
    "uClient = uReq(\"https://bookirea.com/marquee/sada-bahar-banquet?date=21-10-2019&Timings=\")\n",
    "all_web = uClient.read()\n",
    "uClient.close()\n",
    "page_soup = soup(all_web, \"html.parser\")\n",
    "container = page_soup.find(\"header\", {\"class\":\"booking-item-header\"})\n",
    "lat = container.div.input['latitude']\n",
    "lng = container.div.input['longitude']\n",
    "row = [lat,lng]\n",
    "print(row)\n",
    "#with open('latlng.csv', 'a') as f:\n",
    " #   writer=csv.writer(f)\n",
    "  #  writer.writerow(row)\n",
    "\n",
    "#f.close()"
   ]
  },
  {
   "cell_type": "code",
   "execution_count": null,
   "metadata": {},
   "outputs": [],
   "source": []
  }
 ],
 "metadata": {
  "kernelspec": {
   "display_name": "Python 3",
   "language": "python",
   "name": "python3"
  },
  "language_info": {
   "codemirror_mode": {
    "name": "ipython",
    "version": 3
   },
   "file_extension": ".py",
   "mimetype": "text/x-python",
   "name": "python",
   "nbconvert_exporter": "python",
   "pygments_lexer": "ipython3",
   "version": "3.7.3"
  }
 },
 "nbformat": 4,
 "nbformat_minor": 2
}
