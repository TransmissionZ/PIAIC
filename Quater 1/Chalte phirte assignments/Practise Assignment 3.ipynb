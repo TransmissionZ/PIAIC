{
 "cells": [
  {
   "cell_type": "markdown",
   "metadata": {},
   "source": [
    "# Q1:"
   ]
  },
  {
   "cell_type": "markdown",
   "metadata": {},
   "source": [
    "Think of at least three kinds of your favorite pizza. Store these pizza names in a list, and then use a for loop to print the name of each pizza."
   ]
  },
  {
   "cell_type": "code",
   "execution_count": 1,
   "metadata": {},
   "outputs": [
    {
     "name": "stdout",
     "output_type": "stream",
     "text": [
      "New-york style pizza\n",
      "Sicilian pizza\n",
      "California style pizza\n"
     ]
    }
   ],
   "source": [
    "pizza = ['New-york style pizza', 'Sicilian pizza', 'California style pizza']\n",
    "\n",
    "for types in pizza:\n",
    "    print(types)"
   ]
  },
  {
   "cell_type": "markdown",
   "metadata": {},
   "source": [
    "# Q2"
   ]
  },
  {
   "cell_type": "markdown",
   "metadata": {},
   "source": [
    "Start with your last question , Modify your for loop to print a sentence using the name of the pizza\n",
    "instead of printing just the name of the pizza. For each pizza you should\n",
    "have one line of output containing a simple statement like I like pepperoni\n",
    "pizza."
   ]
  },
  {
   "cell_type": "code",
   "execution_count": 3,
   "metadata": {},
   "outputs": [
    {
     "name": "stdout",
     "output_type": "stream",
     "text": [
      "I like New-york style pizza\n",
      "I like Sicilian pizza\n",
      "I like California style pizza\n"
     ]
    }
   ],
   "source": [
    "for types in pizza:\n",
    "    print(f'I like {types}')"
   ]
  },
  {
   "cell_type": "code",
   "execution_count": null,
   "metadata": {},
   "outputs": [],
   "source": []
  },
  {
   "cell_type": "code",
   "execution_count": null,
   "metadata": {},
   "outputs": [],
   "source": []
  },
  {
   "cell_type": "markdown",
   "metadata": {},
   "source": [
    "# Q3:"
   ]
  },
  {
   "cell_type": "markdown",
   "metadata": {},
   "source": [
    "Use a for loop to print the numbers from 1 to 20,\n",
    "inclusive."
   ]
  },
  {
   "cell_type": "code",
   "execution_count": 6,
   "metadata": {},
   "outputs": [
    {
     "name": "stdout",
     "output_type": "stream",
     "text": [
      "1\n",
      "2\n",
      "3\n",
      "4\n",
      "5\n",
      "6\n",
      "7\n",
      "8\n",
      "9\n",
      "10\n",
      "11\n",
      "12\n",
      "13\n",
      "14\n",
      "15\n",
      "16\n",
      "17\n",
      "18\n",
      "19\n",
      "20\n"
     ]
    }
   ],
   "source": [
    "for num in range(1,21):\n",
    "    print(num)"
   ]
  },
  {
   "cell_type": "markdown",
   "metadata": {},
   "source": [
    "# Q4:"
   ]
  },
  {
   "cell_type": "markdown",
   "metadata": {},
   "source": [
    "Use the third argument of the range() function to make a list\n",
    "of the odd numbers from 1 to 20. Use a for loop to print each number."
   ]
  },
  {
   "cell_type": "code",
   "execution_count": 9,
   "metadata": {},
   "outputs": [
    {
     "name": "stdout",
     "output_type": "stream",
     "text": [
      "1\n",
      "3\n",
      "5\n",
      "7\n",
      "9\n",
      "11\n",
      "13\n",
      "15\n",
      "17\n",
      "19\n"
     ]
    }
   ],
   "source": [
    "for no in range(1,20,2):\n",
    "    print(no)"
   ]
  },
  {
   "cell_type": "markdown",
   "metadata": {},
   "source": [
    "# Q5:"
   ]
  },
  {
   "cell_type": "markdown",
   "metadata": {},
   "source": [
    "Make a list of the multiples of 3 from 3 to 30. Use a for loop to\n",
    "print the numbers in your list."
   ]
  },
  {
   "cell_type": "code",
   "execution_count": 11,
   "metadata": {},
   "outputs": [
    {
     "name": "stdout",
     "output_type": "stream",
     "text": [
      "3 * 1 = 3\n",
      "3 * 2 = 6\n",
      "3 * 3 = 9\n",
      "3 * 4 = 12\n",
      "3 * 5 = 15\n",
      "3 * 6 = 18\n",
      "3 * 7 = 21\n",
      "3 * 8 = 24\n",
      "3 * 9 = 27\n",
      "3 * 10 = 30\n"
     ]
    }
   ],
   "source": [
    "for a in range(1,11):\n",
    "    print(f\"3 * {a} = {3*a}\")"
   ]
  },
  {
   "cell_type": "markdown",
   "metadata": {},
   "source": [
    "# Q6:"
   ]
  },
  {
   "cell_type": "markdown",
   "metadata": {},
   "source": [
    "A number raised to the third power is called a cube. For example,\n",
    "the cube of 2 is written as 2**3 in Python. Make a list of the first 10 cubes (that\n",
    "is, the cube of each integer from 1 through 10), and use a for loop to print out\n",
    "the value of each cube"
   ]
  },
  {
   "cell_type": "code",
   "execution_count": 12,
   "metadata": {},
   "outputs": [
    {
     "name": "stdout",
     "output_type": "stream",
     "text": [
      "1's cube is 1\n",
      "2's cube is 8\n",
      "3's cube is 27\n",
      "4's cube is 64\n",
      "5's cube is 125\n",
      "6's cube is 216\n",
      "7's cube is 343\n",
      "8's cube is 512\n",
      "9's cube is 729\n",
      "10's cube is 1000\n"
     ]
    }
   ],
   "source": [
    "for b in range(1,11):\n",
    "    print(f\"{b}'s cube is {b**3}\")"
   ]
  },
  {
   "cell_type": "markdown",
   "metadata": {},
   "source": [
    "# Q7:"
   ]
  },
  {
   "cell_type": "markdown",
   "metadata": {},
   "source": [
    "###### Make a python program that conatains your nine favourite dishes in a list called foods.\n",
    "\n",
    "###### Print the message, The first three items in the list are:. \n",
    "###### Then use a slice to print the first three items from that program’s list.\n",
    "\n",
    "###### Print the message, Three items from the middle of the list are:\n",
    "###### Use a slice to print three items from the middle of the list.\n",
    "\n",
    "###### Print the message, The last three items in the list are:\n",
    "###### Use a slice to print the last three items in the list."
   ]
  },
  {
   "cell_type": "code",
   "execution_count": 21,
   "metadata": {},
   "outputs": [
    {
     "name": "stdout",
     "output_type": "stream",
     "text": [
      "The first three items in the list are: ['biryani', 'pasta', 'qorma']\n",
      "Three items from the middle of the list are: ['broast', 'jalfrezi', 'chicken tikka']\n",
      "The last three items in the list are: ['pizza', 'chicken garlic', 'beef steak']\n"
     ]
    }
   ],
   "source": [
    "foods = ['biryani', 'pasta', 'qorma', 'broast', 'jalfrezi', 'chicken tikka', 'pizza', 'chicken garlic', 'beef steak']\n",
    "print(f\"The first three items in the list are: {foods[0:3]}\")\n",
    "print(f\"Three items from the middle of the list are: {foods[3:6]}\")\n",
    "print(f\"The last three items in the list are: {foods[6:9]}\")\n"
   ]
  },
  {
   "cell_type": "markdown",
   "metadata": {},
   "source": [
    "# Q8:"
   ]
  },
  {
   "cell_type": "markdown",
   "metadata": {},
   "source": [
    "### Start with your program from your last Question8.\n",
    "###### Make a copy of the list of foods, and call it friend_foods.\n",
    "###### Then, do the following:\n",
    "######    Add a new dish to the original list.\n",
    "######    Add a different dish to the list friend_foodss.\n",
    "######    Prove that you have two separate lists. \n",
    "###### Print the message, My favorite pizzas are: and then use a for loop to print the first list. \n",
    "###### Print the message,\n",
    "###### My friend’s favorite foods are:, and then use a for loop to print the second list.\n",
    "    \n",
    "##### NOTE: Make sure each new dish is stored in the appropriate list."
   ]
  },
  {
   "cell_type": "code",
   "execution_count": 22,
   "metadata": {},
   "outputs": [
    {
     "name": "stdout",
     "output_type": "stream",
     "text": [
      "My fav foods are: biryani\n",
      "My fav foods are: pasta\n",
      "My fav foods are: qorma\n",
      "My fav foods are: broast\n",
      "My fav foods are: jalfrezi\n",
      "My fav foods are: chicken tikka\n",
      "My fav foods are: pizza\n",
      "My fav foods are: chicken garlic\n",
      "My fav foods are: beef steak\n",
      "My fav foods are: zinger\n",
      "My friends fav foods are: biryani\n",
      "My friends fav foods are: pasta\n",
      "My friends fav foods are: qorma\n",
      "My friends fav foods are: broast\n",
      "My friends fav foods are: jalfrezi\n",
      "My friends fav foods are: chicken tikka\n",
      "My friends fav foods are: pizza\n",
      "My friends fav foods are: chicken garlic\n",
      "My friends fav foods are: beef steak\n",
      "My friends fav foods are: Chicken Karahi\n"
     ]
    }
   ],
   "source": [
    "friend_foods = foods.copy()\n",
    "foods.append(\"zinger\")\n",
    "friend_foods.append(\"Chicken Karahi\")\n",
    "for foodss in foods:\n",
    "    print(f\"My fav foods are: {foodss}\")\n",
    "for friendsfood in friend_foods:\n",
    "    print(f\"My friends fav foods are: {friendsfood}\")"
   ]
  },
  {
   "cell_type": "markdown",
   "metadata": {},
   "source": [
    "# Q9:"
   ]
  },
  {
   "cell_type": "markdown",
   "metadata": {},
   "source": [
    "Take a user input from console line.Store it in a variable called Alien_color.\n",
    "\n",
    "If the alien’s color is red, print a statement that the player just earned 5 points for shooting the alien.\n",
    "\n",
    "If the alien’s color isn’t green, print a statement that the player just earned 10 points.\n",
    "\n",
    "If the alien's color isn't red or green , print a statment :, Alien is no more....."
   ]
  },
  {
   "cell_type": "code",
   "execution_count": 9,
   "metadata": {},
   "outputs": [
    {
     "name": "stdout",
     "output_type": "stream",
     "text": [
      "Please input a alien color: Red\n",
      "You earned 5 points for shooting the alien, congrats!\n"
     ]
    }
   ],
   "source": [
    "alien_color = input(\"Please input a alien color: \").lower()  #I just think this question is a but misleading.\n",
    "if alien_color == \"red\":\n",
    "    print(\"You earned 5 points for shooting the alien, congrats!\")\n",
    "elif alien_color == \"green\":\n",
    "    print(\"You just earned 10 points, congratulations!\")\n",
    "else:\n",
    "    print(\"Alien is no more.. :(\")"
   ]
  },
  {
   "cell_type": "markdown",
   "metadata": {},
   "source": [
    "# Q10:"
   ]
  },
  {
   "cell_type": "markdown",
   "metadata": {},
   "source": [
    "Write an if-elif-else chain that determines a person’s\n",
    "stage of life. Set a value for the variable age, and then:\n",
    "    \n",
    "•\t If the person is less than 2 years old, print a message that the person is a baby.\n",
    "\n",
    "•\t If the person is at least 2 years old but less than 4, print a message that the person is a toddler.\n",
    "\n",
    "•\t If the person is at least 4 years old but less than 13, print a message that the person is a kid.\n",
    "\n",
    "•\t If the person is at least 13 years old but less than 20, print a message that the person is a teenager.\n",
    "\n",
    "•\t If the person is at least 20 years old but less than 65, print a message that the person is an adult.\n",
    "\n",
    "•\t If the person is age 65 or older, print a message that the person is an elder."
   ]
  },
  {
   "cell_type": "code",
   "execution_count": 2,
   "metadata": {},
   "outputs": [
    {
     "name": "stdout",
     "output_type": "stream",
     "text": [
      "Please input your age: 13\n",
      "This person is a teenager\n"
     ]
    }
   ],
   "source": [
    "age = int(input(\"Please input your age: \"))\n",
    "if age < 2 :\n",
    "    print(\"This person is a baby\")\n",
    "elif age >= 2 and age < 4:\n",
    "    print(\"Person is a toddler\")\n",
    "elif age >= 4 and age < 13:\n",
    "    print(\"This person is a kid\")\n",
    "elif age>=13 and age<20:\n",
    "    print(\"This person is a teenager\")\n",
    "elif age>=20 and age<65:\n",
    "    print(\"This person is an adult\")\n",
    "elif age>= 65:\n",
    "    print(\"This person is an elder\")"
   ]
  },
  {
   "cell_type": "markdown",
   "metadata": {},
   "source": [
    "# Q11:"
   ]
  },
  {
   "cell_type": "markdown",
   "metadata": {},
   "source": [
    "Do the following to create a program that simulates how websites ensure that everyone has a unique username.\n",
    "\n",
    "•\t Make a list of five or more usernames called current_users.\n",
    "\n",
    "•\t Make another list of five usernames called new_users. \n",
    "Make sure one or two of the new usernames are also in the current_users list.\n",
    "\n",
    "•\t Loop through the new_users list to see if each new username has already been used. \n",
    "If it has, print a message that the person will need to enter a new username. \n",
    "If a username has not been used, print a message saying that the username is available.\n",
    "\n",
    "•\t Make sure your comparison is case insensitive. If 'John' has been used, 'JOHN' should not be accepted."
   ]
  },
  {
   "cell_type": "code",
   "execution_count": 1,
   "metadata": {},
   "outputs": [
    {
     "name": "stdout",
     "output_type": "stream",
     "text": [
      "Username not available.\n",
      "Username Available\n",
      "Username not available.\n",
      "Username Available\n",
      "Username Available\n"
     ]
    }
   ],
   "source": [
    "current_users = [\"ali\", \"haroon\", \"Hamza\", \"bilal\", \"John\"]\n",
    "new_users = [\"ali\", \"tariq\", \"HaRoOn\", \"Yolo\", \"BrutalKiller!\"]\n",
    "for user in new_users:\n",
    "    for users in current_users:\n",
    "            if user.lower() == users.lower():\n",
    "                x = True\n",
    "                break\n",
    "            else:\n",
    "                x = False\n",
    "    if x == False:\n",
    "        print(\"Username Available\")\n",
    "    elif x == True:\n",
    "        print(\"Username not available.\")"
   ]
  },
  {
   "cell_type": "markdown",
   "metadata": {},
   "source": [
    "# Q12:"
   ]
  },
  {
   "cell_type": "markdown",
   "metadata": {},
   "source": [
    "Use a dictionary to store information about a person you know.\n",
    "Store their first name, last name, age, and the city in which they live. \n",
    "You should have keys such as first_name, last_name, age, and city. \n",
    "Print each piece of information stored in your dictionary"
   ]
  },
  {
   "cell_type": "code",
   "execution_count": 4,
   "metadata": {},
   "outputs": [],
   "source": [
    "known = {'first name' : \"Shees\", 'last name': \"Hamid\", 'age' : 18, 'city' :\"karachi\" }"
   ]
  },
  {
   "cell_type": "code",
   "execution_count": 6,
   "metadata": {},
   "outputs": [
    {
     "name": "stdout",
     "output_type": "stream",
     "text": [
      "first name\n",
      "last name\n",
      "age\n",
      "city\n"
     ]
    }
   ],
   "source": [
    "for k in known.keys():\n",
    "    print(k)"
   ]
  },
  {
   "cell_type": "code",
   "execution_count": 8,
   "metadata": {},
   "outputs": [
    {
     "name": "stdout",
     "output_type": "stream",
     "text": [
      "Shees\n",
      "Hamid\n",
      "18\n",
      "karachi\n"
     ]
    }
   ],
   "source": [
    "for i in known.keys():\n",
    "    print(known[i])"
   ]
  },
  {
   "cell_type": "markdown",
   "metadata": {},
   "source": [
    "# Q13:"
   ]
  },
  {
   "cell_type": "markdown",
   "metadata": {},
   "source": [
    "Starts with your last question 12 , loop through the dictionary’s keys and values.\n",
    "When you’re sure that your loop works, add five more Python terms to your\n",
    "dictionary . When you run your program again, these new words and meanings\n",
    "should automatically be included in the output."
   ]
  },
  {
   "cell_type": "code",
   "execution_count": 10,
   "metadata": {},
   "outputs": [
    {
     "name": "stdout",
     "output_type": "stream",
     "text": [
      "first name : Shees\n",
      "last name : Hamid\n",
      "age : 18\n",
      "city : karachi\n"
     ]
    }
   ],
   "source": [
    "for l , m in known.items():\n",
    "    print(f\"{l} : {m}\")"
   ]
  },
  {
   "cell_type": "code",
   "execution_count": 11,
   "metadata": {},
   "outputs": [
    {
     "name": "stdout",
     "output_type": "stream",
     "text": [
      "first name : Shees\n",
      "last name : Hamid\n",
      "age : 18\n",
      "city : karachi\n",
      "job : student\n",
      "car : Mehran\n",
      "town : Maymar\n",
      "field : engineering\n",
      "sports : cricket\n"
     ]
    }
   ],
   "source": [
    "known.update({\"job\" : 'student', \"car\" : \"Mehran\", 'town': \"Maymar\", 'field':\"engineering\", 'sports' : 'cricket'})\n",
    "for l , m in known.items():\n",
    "    print(f\"{l} : {m}\")"
   ]
  },
  {
   "cell_type": "markdown",
   "metadata": {},
   "source": [
    "# Q14:"
   ]
  },
  {
   "cell_type": "markdown",
   "metadata": {},
   "source": [
    "Make a dictionary containing three major rivers and the country\n",
    "each river runs through. One key-value pair might be 'nile': 'egypt'.\n",
    "    \n",
    "    \n",
    "•\t Use a loop to print a sentence about each river, such as The Nile runs\n",
    "through Egypt.\n",
    "\n",
    "NOTE: use upper case through keys and values."
   ]
  },
  {
   "cell_type": "code",
   "execution_count": 17,
   "metadata": {},
   "outputs": [
    {
     "name": "stdout",
     "output_type": "stream",
     "text": [
      "NILE river is located in EGYPT\n",
      "INDUS river is located in PAKISTAN\n",
      "GANGES river is located in INDIA\n"
     ]
    }
   ],
   "source": [
    "rivers = {\n",
    "    'NILE' : 'EGYPT', \n",
    "    'INDUS' : 'PAKISTAN',             \n",
    "    'GANGES' : 'INDIA'\n",
    "}\n",
    "\n",
    "for x , y in rivers.items():\n",
    "    print(f\"{x} river is located in {y}\")"
   ]
  },
  {
   "cell_type": "markdown",
   "metadata": {},
   "source": [
    "# Q15:"
   ]
  },
  {
   "cell_type": "markdown",
   "metadata": {},
   "source": [
    "Make several dictionaries, where the name of each dictionary is the\n",
    "name of a pet. In each dictionary, include the kind of animal and the owner’s\n",
    "name. Store these dictionaries in a list called pets. Next, loop through your list\n",
    "and as you do print everything you know about each pet."
   ]
  },
  {
   "cell_type": "code",
   "execution_count": 43,
   "metadata": {},
   "outputs": [
    {
     "name": "stdout",
     "output_type": "stream",
     "text": [
      "This pet is named Laika and is of kind Dog and is owned by Soviet Space.\n",
      "This pet is named Sunny and is of kind Dog and is owned by Obama Family.\n",
      "This pet is named Bo and is of kind Dog and is owned by Obama Family.\n",
      "This pet is named Grumpy Cat and is of kind cat and is owned by Tabatha Bundesen.\n"
     ]
    }
   ],
   "source": [
    "laika = {'name':'Laika', 'Kind':'Dog', 'Owner':'Soviet Space'}\n",
    "sunny = {'name':'Sunny', 'Kind':'Dog', 'Owner':'Obama Family'}\n",
    "bo = {'name':'Bo','Kind':'Dog', 'Owner':'Obama Family'}\n",
    "grumpy_cat = {'name':'Grumpy Cat', 'Kind':'cat', 'Owner':'Tabatha Bundesen'}\n",
    "\n",
    "pets = [laika, sunny, bo, grumpy_cat]\n",
    "for n in range(0,len(pets)):   \n",
    "    print(f\"This pet is named {pets[n]['name']} and is of kind \" + pets[n]['Kind'] + f\" and is owned by {pets[n]['Owner']}.\")\n"
   ]
  }
 ],
 "metadata": {
  "kernelspec": {
   "display_name": "Python 3",
   "language": "python",
   "name": "python3"
  },
  "language_info": {
   "codemirror_mode": {
    "name": "ipython",
    "version": 3
   },
   "file_extension": ".py",
   "mimetype": "text/x-python",
   "name": "python",
   "nbconvert_exporter": "python",
   "pygments_lexer": "ipython3",
   "version": "3.7.3"
  }
 },
 "nbformat": 4,
 "nbformat_minor": 2
}
