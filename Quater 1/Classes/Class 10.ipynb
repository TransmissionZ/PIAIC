{
 "cells": [
  {
   "cell_type": "markdown",
   "metadata": {},
   "source": [
    "# Positional parameter"
   ]
  },
  {
   "cell_type": "code",
   "execution_count": null,
   "metadata": {},
   "outputs": [],
   "source": [
    " def name1(friends):\n",
    "    for friend in friends:\n",
    "        a = \"Hello, \" + friend.title()\n",
    "    print (a)\n",
    "user=['ali','kaleem']        \n",
    "name1(['ali','kaleem'])\n",
    "        "
   ]
  },
  {
   "cell_type": "markdown",
   "metadata": {},
   "source": [
    "# KEYWORD PARAMETER"
   ]
  },
  {
   "cell_type": "code",
   "execution_count": null,
   "metadata": {},
   "outputs": [],
   "source": [
    "def family(my_name,f_name):\n",
    "    print(f\"My name is {my_name} and my f is {f_name}\")\n",
    "    \n",
    "family(f_name=\"qwerty\" , my_name ='kaleem')"
   ]
  },
  {
   "cell_type": "code",
   "execution_count": null,
   "metadata": {},
   "outputs": [],
   "source": [
    "def bio(name,age,gender):\n",
    "    print(f\"My name is {name} my age is {age} and my gender is {gender}\")\n",
    "bio(name='maverick', age=20, gender=\"M\" )    "
   ]
  },
  {
   "cell_type": "markdown",
   "metadata": {},
   "source": [
    "# Default parameter"
   ]
  },
  {
   "cell_type": "code",
   "execution_count": null,
   "metadata": {},
   "outputs": [],
   "source": [
    "#it have optional stuff like middle name\n",
    "#when makng func all default paarmeters comes in last and in calling func all keyword parameters comes in last"
   ]
  },
  {
   "cell_type": "code",
   "execution_count": null,
   "metadata": {},
   "outputs": [],
   "source": [
    "def things(home,mobile='Iphone',car='Suzuki'):\n",
    "    print(f\"I live in {home}.\")\n",
    "    print(f\"I have an {mobile}.\")\n",
    "    print(f\"I drive a {car}.\")\n",
    "    \n",
    "things('Gulshan','lg')    "
   ]
  },
  {
   "cell_type": "code",
   "execution_count": null,
   "metadata": {},
   "outputs": [],
   "source": [
    "def education(matric,college,university='ssuet'):\n",
    "    print(f\"I have done my matric from {matric}\")\n",
    "    print(f\"I have done my college from {college}\")\n",
    "    print(f\"I have done my university from {university}\")\n",
    "         \n",
    "education('shaheen','gulshan')"
   ]
  },
  {
   "cell_type": "code",
   "execution_count": null,
   "metadata": {},
   "outputs": [],
   "source": [
    "def func1(a,b,*c):#can keep more than 1 value its a tuple\n",
    "    print(a,b,c)\n",
    "func1(2,3,4,3,4,4,4)"
   ]
  },
  {
   "cell_type": "code",
   "execution_count": null,
   "metadata": {},
   "outputs": [],
   "source": [
    "def func1(a,b,c=0):\n",
    "    print(a,b,c)\n",
    "func1(2,3)"
   ]
  },
  {
   "cell_type": "code",
   "execution_count": null,
   "metadata": {},
   "outputs": [],
   "source": [
    "def my_name(f_name,l_name,m_name=''):\n",
    "    if m_name:\n",
    "        full_name = f_name + ' ' + m_name + ' '+ l_name\n",
    "    else:\n",
    "        full_name=f_name + \" \" + l_name\n",
    "        \n",
    "    return full_name\n",
    "a1= my_name(' edw ','dew')\n",
    "print(a1)"
   ]
  },
  {
   "cell_type": "code",
   "execution_count": null,
   "metadata": {},
   "outputs": [],
   "source": [
    "a1=my_name('hi','bu')\n",
    "print(a1)"
   ]
  },
  {
   "cell_type": "code",
   "execution_count": null,
   "metadata": {},
   "outputs": [],
   "source": [
    "def commission(commission):#using function as variabel (which is what they really are)\n",
    "    return commission\n",
    "def basic (basic):\n",
    "    return basic"
   ]
  },
  {
   "cell_type": "code",
   "execution_count": null,
   "metadata": {},
   "outputs": [],
   "source": [
    "gross=commission(10000)+basic(100)\n",
    "print(gross)"
   ]
  },
  {
   "cell_type": "markdown",
   "metadata": {},
   "source": [
    "# function: global vs local "
   ]
  },
  {
   "cell_type": "code",
   "execution_count": null,
   "metadata": {},
   "outputs": [],
   "source": [
    "totalpay=0\n",
    "def commissioncalc(salesvalue):\n",
    "    if salesvalue>10000:\n",
    "        percent=10 ## local variable\n",
    "        commission=salesvalue/100*percent\n",
    "        return commission\n",
    "def paid(basic):\n",
    "        totalpay=basic+commissioncalc(15000)\n",
    "        return totalpay\n",
    "print(f\"the total paid amount is  {paid(12000)} \")    "
   ]
  },
  {
   "cell_type": "code",
   "execution_count": null,
   "metadata": {},
   "outputs": [],
   "source": [
    "## global vaeiable\n",
    "totalpay=0\n",
    "def commissioncalc(salesvalue):\n",
    "    if salesvalue>10000:\n",
    "        global percent\n",
    "        percent=10 ## global variable\n",
    "        commission=salesvalue/100*percent\n",
    "        return commission\n",
    "def paid(basic):\n",
    "        totalpay=basic+commissioncalc(15000)\n",
    "        return totalpay\n",
    "print(f\"the total paid amount is  {paid(12000)} witn commission perc is {percent}\")    "
   ]
  },
  {
   "cell_type": "markdown",
   "metadata": {},
   "source": [
    "# WHILE LOOPS"
   ]
  },
  {
   "cell_type": "code",
   "execution_count": null,
   "metadata": {},
   "outputs": [],
   "source": [
    "a=1\n",
    "while a<10:\n",
    "    print(a,\"fuck you\")\n",
    "    a+=1"
   ]
  },
  {
   "cell_type": "code",
   "execution_count": null,
   "metadata": {},
   "outputs": [],
   "source": [
    "flag=True\n",
    "while flag:\n",
    "    name=input(\"what is you name\")\n",
    "    print(f\"Welcom to class sir  {name}\")\n",
    "    if name ==\"qayyum\":\n",
    "        flag= False"
   ]
  },
  {
   "cell_type": "code",
   "execution_count": null,
   "metadata": {},
   "outputs": [],
   "source": [
    "while True:\n",
    "    city=input(\"please enter name of city you have visted \")\n",
    "    if city==\"quit\":\n",
    "        break\n",
    "    else:\n",
    "        print(\"I'd love to go to  \"+ city.title()+\"!\")"
   ]
  },
  {
   "cell_type": "code",
   "execution_count": null,
   "metadata": {},
   "outputs": [],
   "source": [
    "while True:\n",
    "    top=input(\"please enter toppings on pizza \")\n",
    "    if top==\"quit\":\n",
    "        break\n",
    "    else:\n",
    "        print(f\"{top.title()} Added to your pizza\")"
   ]
  },
  {
   "cell_type": "code",
   "execution_count": 3,
   "metadata": {},
   "outputs": [
    {
     "name": "stdout",
     "output_type": "stream",
     "text": [
      "Enter your age : 13\n",
      "the ticket is 15$\n"
     ]
    }
   ],
   "source": [
    "while True:\n",
    "    age=int(input(\"Enter your age : \"))\n",
    "    if age<3:\n",
    "        print(\"the ticket is free\")\n",
    "        break\n",
    "    elif age>=3 and age<=12:\n",
    "        print(\"the ticket is 10$\")\n",
    "        break\n",
    "    elif age>12:\n",
    "        print(\"the ticket is 15$\")\n",
    "        break"
   ]
  },
  {
   "cell_type": "code",
   "execution_count": null,
   "metadata": {},
   "outputs": [],
   "source": []
  },
  {
   "cell_type": "code",
   "execution_count": null,
   "metadata": {},
   "outputs": [],
   "source": []
  }
 ],
 "metadata": {
  "kernelspec": {
   "display_name": "Python 3",
   "language": "python",
   "name": "python3"
  },
  "language_info": {
   "codemirror_mode": {
    "name": "ipython",
    "version": 3
   },
   "file_extension": ".py",
   "mimetype": "text/x-python",
   "name": "python",
   "nbconvert_exporter": "python",
   "pygments_lexer": "ipython3",
   "version": "3.7.3"
  }
 },
 "nbformat": 4,
 "nbformat_minor": 2
}
