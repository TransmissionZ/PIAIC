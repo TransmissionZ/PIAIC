{
 "cells": [
  {
   "cell_type": "markdown",
   "metadata": {},
   "source": [
    "# Classes"
   ]
  },
  {
   "cell_type": "code",
   "execution_count": 2,
   "metadata": {},
   "outputs": [],
   "source": [
    "class Patient():\n",
    "    def __init__(self, name, age, gender, disease): #constructor/initializer\n",
    "        self.name = name #attributes\n",
    "        self.age = age\n",
    "        self.gender = gender\n",
    "        self.disease = disease"
   ]
  },
  {
   "cell_type": "code",
   "execution_count": 3,
   "metadata": {},
   "outputs": [],
   "source": [
    "p1 = Patient(\"Haroon\", 18, \"Male\", \"Flu\")"
   ]
  },
  {
   "cell_type": "code",
   "execution_count": 4,
   "metadata": {},
   "outputs": [],
   "source": [
    "p2 = Patient(\"Samba\", 45, \"Male\", \"Aids\")"
   ]
  },
  {
   "cell_type": "code",
   "execution_count": 5,
   "metadata": {},
   "outputs": [
    {
     "data": {
      "text/plain": [
       "'Haroon'"
      ]
     },
     "execution_count": 5,
     "metadata": {},
     "output_type": "execute_result"
    }
   ],
   "source": [
    "p1.name"
   ]
  },
  {
   "cell_type": "code",
   "execution_count": 6,
   "metadata": {},
   "outputs": [
    {
     "data": {
      "text/plain": [
       "'Samba'"
      ]
     },
     "execution_count": 6,
     "metadata": {},
     "output_type": "execute_result"
    }
   ],
   "source": [
    "p2.name"
   ]
  },
  {
   "cell_type": "code",
   "execution_count": 7,
   "metadata": {},
   "outputs": [
    {
     "data": {
      "text/plain": [
       "45"
      ]
     },
     "execution_count": 7,
     "metadata": {},
     "output_type": "execute_result"
    }
   ],
   "source": [
    "p2.age"
   ]
  },
  {
   "cell_type": "code",
   "execution_count": 9,
   "metadata": {},
   "outputs": [],
   "source": [
    "class Student():\n",
    "    def __init__(stu, name, age, gender, DOB, grade, section):\n",
    "        stu.name = name\n",
    "        stu.age = age\n",
    "        stu.gender = gender\n",
    "        stu.DOB = DOB\n",
    "        stu.grade = grade\n",
    "        stu.section = section\n",
    "                "
   ]
  },
  {
   "cell_type": "code",
   "execution_count": 11,
   "metadata": {},
   "outputs": [],
   "source": [
    "s1 = Student('Haroon', 18, \"M\", \"04/11/2000\", \"A2\", \"D\")"
   ]
  },
  {
   "cell_type": "code",
   "execution_count": 12,
   "metadata": {},
   "outputs": [
    {
     "data": {
      "text/plain": [
       "'Haroon'"
      ]
     },
     "execution_count": 12,
     "metadata": {},
     "output_type": "execute_result"
    }
   ],
   "source": [
    "s1.name"
   ]
  },
  {
   "cell_type": "code",
   "execution_count": 13,
   "metadata": {},
   "outputs": [],
   "source": [
    "class Dog():\n",
    "    \"\"\"A simple attempt to model a dog.\"\"\"\n",
    "    def __init__(self,name,age):\n",
    "        self.name = name\n",
    "        self.age = age\n",
    "        \n",
    "    def sit(self):\n",
    "        \"\"\"Simulate a dog sitting in responce to the command\"\"\"\n",
    "        print(self.name.title() + \" is now sitting.\")\n",
    "        \n",
    "    def roll_over(self):\n",
    "        \"\"\"Simulate a dog rolling over in responce to the command\"\"\"\n",
    "        print(self.name.title() + \" rolled over!\")\n",
    "        \n",
    "        \n",
    "        \n",
    "        \n",
    "        "
   ]
  },
  {
   "cell_type": "code",
   "execution_count": 14,
   "metadata": {},
   "outputs": [],
   "source": [
    "d1 = Dog(\"puppy\", 4)"
   ]
  },
  {
   "cell_type": "code",
   "execution_count": 16,
   "metadata": {},
   "outputs": [
    {
     "name": "stdout",
     "output_type": "stream",
     "text": [
      "Puppy is now sitting.\n"
     ]
    }
   ],
   "source": [
    "d1.sit()"
   ]
  },
  {
   "cell_type": "code",
   "execution_count": 38,
   "metadata": {},
   "outputs": [],
   "source": [
    "class Restaurent():\n",
    "    def __init__(self, name, cuisine_type):\n",
    "        self.name = name\n",
    "        self.cuisine_type = cuisine_type\n",
    "    def describe_restaurent(self):\n",
    "        print(f\"Restaurent's name is {self.name.title()} and it is for {self.cuisine_type}\")\n",
    "    def open_restaurent(self):\n",
    "        print(\"Restaurent is now open\")"
   ]
  },
  {
   "cell_type": "code",
   "execution_count": 39,
   "metadata": {},
   "outputs": [],
   "source": [
    "restaurent = Restaurent(\"Javed Nihari\", \"Nihari shop\")"
   ]
  },
  {
   "cell_type": "code",
   "execution_count": 40,
   "metadata": {},
   "outputs": [
    {
     "data": {
      "text/plain": [
       "'Javed Nihari'"
      ]
     },
     "execution_count": 40,
     "metadata": {},
     "output_type": "execute_result"
    }
   ],
   "source": [
    "restaurent.name"
   ]
  },
  {
   "cell_type": "code",
   "execution_count": 41,
   "metadata": {},
   "outputs": [
    {
     "data": {
      "text/plain": [
       "'Nihari shop'"
      ]
     },
     "execution_count": 41,
     "metadata": {},
     "output_type": "execute_result"
    }
   ],
   "source": [
    "restaurent.cuisine_type"
   ]
  },
  {
   "cell_type": "code",
   "execution_count": 42,
   "metadata": {},
   "outputs": [
    {
     "name": "stdout",
     "output_type": "stream",
     "text": [
      "Restaurent's name is Javed Nihari and it is for Nihari shop\n"
     ]
    }
   ],
   "source": [
    "restaurent.describe_restaurent()"
   ]
  },
  {
   "cell_type": "code",
   "execution_count": 43,
   "metadata": {},
   "outputs": [
    {
     "name": "stdout",
     "output_type": "stream",
     "text": [
      "Restaurent is now open\n"
     ]
    }
   ],
   "source": [
    "restaurent.open_restaurent()"
   ]
  },
  {
   "cell_type": "code",
   "execution_count": 68,
   "metadata": {},
   "outputs": [],
   "source": [
    "class Car():\n",
    "    def __init__(self, make, model, year):\n",
    "        \"\"\"Initialize attributes to describe a car.\"\"\"\n",
    "        self.make = make\n",
    "        self.model = model\n",
    "        self.year = year\n",
    "        self.odometer_reading = 0 #Thisattribute is not mandatory for instance creation.\n",
    "    def get_descriptive_name(self):\n",
    "        \"\"\"Return a neatly formatted descriptive name.\"\"\"\n",
    "        long_name = str(self.year) + ' ' + self.make + ' ' + self.model\n",
    "        return long_name.title()\n",
    "\n",
    "    def read_odometer(self):\n",
    "        \"\"\"Print a statement showing the car's mileage.\"\"\"\n",
    "        print(\"This car has \" + str(self.odometer_reading) + \" miles on it.\")\n",
    "\n",
    "    def update_odometer(self, mileage):\n",
    "        if mileage >= self.odometer_reading:\n",
    "            self.odometer_reading = mileage\n",
    "        else:\n",
    "            print(\"You can't roll back an odometer\")\n",
    "    def increment_odometer(self, miles):\n",
    "        self.odometer_reading += miles"
   ]
  },
  {
   "cell_type": "code",
   "execution_count": 69,
   "metadata": {},
   "outputs": [
    {
     "name": "stdout",
     "output_type": "stream",
     "text": [
      "2016 Audi A4\n",
      "This car has 0 miles on it.\n"
     ]
    }
   ],
   "source": [
    "my_new_car = Car(\"Audi\", \"a4\", 2016)\n",
    "print(my_new_car.get_descriptive_name())\n",
    "my_new_car.read_odometer()"
   ]
  },
  {
   "cell_type": "code",
   "execution_count": 70,
   "metadata": {},
   "outputs": [
    {
     "data": {
      "text/plain": [
       "45"
      ]
     },
     "execution_count": 70,
     "metadata": {},
     "output_type": "execute_result"
    }
   ],
   "source": [
    "#Modifying attribute values.\n",
    "#1) Directly\n",
    "my_new_car.odometer_reading = 45\n",
    "my_new_car.odometer_reading"
   ]
  },
  {
   "cell_type": "code",
   "execution_count": 71,
   "metadata": {},
   "outputs": [],
   "source": [
    "yourcar = Car(\"abcd\", \"xyz\", 2000)"
   ]
  },
  {
   "cell_type": "code",
   "execution_count": 72,
   "metadata": {},
   "outputs": [
    {
     "data": {
      "text/plain": [
       "0"
      ]
     },
     "execution_count": 72,
     "metadata": {},
     "output_type": "execute_result"
    }
   ],
   "source": [
    "yourcar.odometer_reading"
   ]
  },
  {
   "cell_type": "code",
   "execution_count": 73,
   "metadata": {},
   "outputs": [
    {
     "name": "stdout",
     "output_type": "stream",
     "text": [
      "This car has 28000 miles on it.\n"
     ]
    }
   ],
   "source": [
    "#Using a function to change attribute values\n",
    "abcCar = Car(\"Daihatsu\", \"Mira\", 2015)\n",
    "abcCar.update_odometer(28000)\n",
    "abcCar.read_odometer()"
   ]
  },
  {
   "cell_type": "code",
   "execution_count": 74,
   "metadata": {},
   "outputs": [
    {
     "name": "stdout",
     "output_type": "stream",
     "text": [
      "This car has 28050 miles on it.\n"
     ]
    }
   ],
   "source": [
    "abcCar.increment_odometer(50)\n",
    "abcCar.read_odometer()"
   ]
  },
  {
   "cell_type": "code",
   "execution_count": 27,
   "metadata": {},
   "outputs": [],
   "source": [
    "class User():\n",
    "    def __init__(self, f_name, l_name, gender, email):\n",
    "        self.namef = f_name\n",
    "        self.namel = l_name\n",
    "        self.gender = gender\n",
    "        self.email = email\n",
    "        self.logattempt = 0\n",
    "    \n",
    "    def userinfo(self):\n",
    "        print(f\"User name is {self.namef} {self.namel}, his/her gender is {self.gender} and email is {self.email}\")\n",
    "    def greetuser(self):\n",
    "        print(f\"Welcome to the future, {self.namef} {self.namel}.\")\n",
    "    def inc_login(self, attempts):\n",
    "        self.logattempt += attempts\n",
    "    def get_login(self):\n",
    "        print(f'{self.namef} has been made {self.logattempt} attempts')"
   ]
  },
  {
   "cell_type": "code",
   "execution_count": 28,
   "metadata": {},
   "outputs": [
    {
     "name": "stdout",
     "output_type": "stream",
     "text": [
      "User name is Muhammad Haroon, his/her gender is Male and email is xyz@yahoo.com\n",
      "Welcome to the future, Muhammad Haroon.\n",
      "Muhammad has been made 5 attempts\n"
     ]
    }
   ],
   "source": [
    "u1 = User('Muhammad', 'Haroon', 'Male', 'xyz@yahoo.com')\n",
    "u1.userinfo()\n",
    "u1.greetuser()\n",
    "u1.inc_login(5)\n",
    "u1.get_login()"
   ]
  },
  {
   "cell_type": "code",
   "execution_count": null,
   "metadata": {},
   "outputs": [],
   "source": []
  },
  {
   "cell_type": "code",
   "execution_count": null,
   "metadata": {},
   "outputs": [],
   "source": []
  }
 ],
 "metadata": {
  "kernelspec": {
   "display_name": "Python 3",
   "language": "python",
   "name": "python3"
  },
  "language_info": {
   "codemirror_mode": {
    "name": "ipython",
    "version": 3
   },
   "file_extension": ".py",
   "mimetype": "text/x-python",
   "name": "python",
   "nbconvert_exporter": "python",
   "pygments_lexer": "ipython3",
   "version": "3.7.3"
  }
 },
 "nbformat": 4,
 "nbformat_minor": 2
}
