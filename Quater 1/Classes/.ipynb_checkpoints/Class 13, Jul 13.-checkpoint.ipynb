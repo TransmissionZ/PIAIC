{
 "cells": [
  {
   "cell_type": "markdown",
   "metadata": {},
   "source": [
    "# Inheritance"
   ]
  },
  {
   "cell_type": "code",
   "execution_count": 60,
   "metadata": {},
   "outputs": [],
   "source": [
    "class Car():\n",
    "    def __init__(self, make, model, year):\n",
    "        \"\"\"Initialize attributes to describe a car.\"\"\"\n",
    "        self.make = make\n",
    "        self.model = model\n",
    "        self.year = year\n",
    "        self.odometer_reading = 0 #Thisattribute is not mandatory for instance creation.\n",
    "    def get_descriptive_name(self):\n",
    "        \"\"\"Return a neatly formatted descriptive name.\"\"\"\n",
    "        long_name = str(self.year) + ' ' + self.make + ' ' + self.model\n",
    "        return long_name.title()\n",
    "\n",
    "    def read_odometer(self):\n",
    "        \"\"\"Print a statement showing the car's mileage.\"\"\"\n",
    "        print(\"This car has \" + str(self.odometer_reading) + \" miles on it.\")\n",
    "\n",
    "    def update_odometer(self, mileage):\n",
    "        if mileage >= self.odometer_reading:\n",
    "            self.odometer_reading = mileage\n",
    "        else:\n",
    "            print(\"You can't roll back an odometer\")\n",
    "    def increment_odometer(self, miles):\n",
    "        self.odometer_reading += miles"
   ]
  },
  {
   "cell_type": "code",
   "execution_count": 68,
   "metadata": {},
   "outputs": [],
   "source": [
    "class Ecar(Car):\n",
    "    def __init__(self, make, model, year):\n",
    "        super(). __init__(make,model,year)\n",
    "        self.engine = Engine('Toyota', 'EGB12', 2015, 2000)\n",
    "        self.software = \"Android\"\n",
    "        self.battery = Battery(100, 45, 36, \"Daewoo\") #This is not inheritance.\n",
    "    def getfueltankcap(self):\n",
    "        print('Electric cars do not have fuel tanks.')\n",
    "ecar1 = Ecar(\"Honda\", \"City\", \"2011\")"
   ]
  },
  {
   "cell_type": "code",
   "execution_count": 69,
   "metadata": {},
   "outputs": [],
   "source": [
    "class Battery():\n",
    "    def __init__(self, size, amps, plates, company):\n",
    "        self.size = size\n",
    "        self.amps = amps\n",
    "        self.plates = plates\n",
    "        self.company = company\n",
    "    def getbatterysize(self):\n",
    "        print(f\"Battery size: {self.size}\")\n",
    "    def setbatsize(self, newbattery):\n",
    "        self.size = newbattery"
   ]
  },
  {
   "cell_type": "code",
   "execution_count": 70,
   "metadata": {},
   "outputs": [],
   "source": [
    "class Engine():\n",
    "    def __init__(self, make, model, year, cc):\n",
    "        self.make = make\n",
    "        self.model = model\n",
    "        self.year = year\n",
    "        self.cc = cc\n",
    "    def getenginecc(self):\n",
    "        print(f\"Engine size: {self.cc}\")\n",
    "        \n",
    "    "
   ]
  },
  {
   "cell_type": "code",
   "execution_count": 71,
   "metadata": {},
   "outputs": [
    {
     "name": "stdout",
     "output_type": "stream",
     "text": [
      "This car has 0 miles on it.\n"
     ]
    }
   ],
   "source": [
    "ecar1.read_odometer()"
   ]
  },
  {
   "cell_type": "code",
   "execution_count": 72,
   "metadata": {},
   "outputs": [
    {
     "name": "stdout",
     "output_type": "stream",
     "text": [
      "Electric cars do not have fuel tanks.\n"
     ]
    }
   ],
   "source": [
    "ecar1.getfueltankcap()"
   ]
  },
  {
   "cell_type": "code",
   "execution_count": 73,
   "metadata": {},
   "outputs": [
    {
     "name": "stdout",
     "output_type": "stream",
     "text": [
      "Battery size: 100\n"
     ]
    }
   ],
   "source": [
    "ecar1.battery.getbatterysize()"
   ]
  },
  {
   "cell_type": "code",
   "execution_count": 74,
   "metadata": {},
   "outputs": [
    {
     "name": "stdout",
     "output_type": "stream",
     "text": [
      "Engine size: 2000\n"
     ]
    }
   ],
   "source": [
    "ecar1.engine.getenginecc()"
   ]
  },
  {
   "cell_type": "markdown",
   "metadata": {},
   "source": [
    "# File Handling"
   ]
  },
  {
   "cell_type": "code",
   "execution_count": 76,
   "metadata": {},
   "outputs": [],
   "source": [
    "with open(\"saylani.txt\", \"w\") as file:\n",
    "    file.write(\"Hello sharmila aunty\")"
   ]
  },
  {
   "cell_type": "code",
   "execution_count": 90,
   "metadata": {},
   "outputs": [
    {
     "name": "stdout",
     "output_type": "stream",
     "text": [
      "Hello sharmila aunty\n",
      "mila aunty\n"
     ]
    }
   ],
   "source": [
    "with open(\"saylani.txt\", \"r\") as reader: #writes on once and if repeated, it overwrites. Creates file if not already there.\n",
    "    print(reader.read())\n",
    "    reader.seek(10)\n",
    "    print(reader.read())"
   ]
  },
  {
   "cell_type": "code",
   "execution_count": 100,
   "metadata": {},
   "outputs": [
    {
     "name": "stdout",
     "output_type": "stream",
     "text": [
      "Hello \n",
      "dugni aun\n",
      "tynty\n"
     ]
    }
   ],
   "source": [
    "with open(\"saylani.txt\", \"r\") as reader:\n",
    "    print(reader.read(6))\n",
    "    print(reader.read(9))\n",
    "    print(reader.read(5))"
   ]
  },
  {
   "cell_type": "code",
   "execution_count": 101,
   "metadata": {},
   "outputs": [],
   "source": [
    "with open(\"saylani.txt\", 'a') as f: # Does not overwrite\n",
    "    f.write(\"Hello Babni aunty  \")"
   ]
  },
  {
   "cell_type": "code",
   "execution_count": 102,
   "metadata": {},
   "outputs": [
    {
     "name": "stdout",
     "output_type": "stream",
     "text": [
      "Hello dugni auntyntyHello Babni auntyHello dugni auntyHello dugni auntyHello dugni auntyHello Babni aunty  \n"
     ]
    }
   ],
   "source": [
    "with open(\"saylani.txt\", 'r') as r:\n",
    "    print(r.read())"
   ]
  },
  {
   "cell_type": "code",
   "execution_count": 104,
   "metadata": {},
   "outputs": [
    {
     "name": "stdout",
     "output_type": "stream",
     "text": [
      "Hello dugni auntyntyHello Babni auntyHello dugni auntyHello dugni auntyHello dugni auntyHello Babni aunty  Hello dugni aunty  \n"
     ]
    }
   ],
   "source": [
    "with open(\"saylani.txt\", 'r+') as r1: # Can read and write(overwrite).\n",
    "    r1.write(\"Hello dugni aunty  \")\n",
    "    print(r1.readline())\n",
    "    r1.readline?"
   ]
  },
  {
   "cell_type": "code",
   "execution_count": null,
   "metadata": {},
   "outputs": [],
   "source": []
  }
 ],
 "metadata": {
  "kernelspec": {
   "display_name": "Python 3",
   "language": "python",
   "name": "python3"
  },
  "language_info": {
   "codemirror_mode": {
    "name": "ipython",
    "version": 3
   },
   "file_extension": ".py",
   "mimetype": "text/x-python",
   "name": "python",
   "nbconvert_exporter": "python",
   "pygments_lexer": "ipython3",
   "version": "3.7.3"
  }
 },
 "nbformat": 4,
 "nbformat_minor": 2
}
