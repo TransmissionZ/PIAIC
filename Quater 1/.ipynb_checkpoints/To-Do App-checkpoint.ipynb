{
 "cells": [
  {
   "cell_type": "markdown",
   "metadata": {},
   "source": [
    "# To-Do Application program."
   ]
  },
  {
   "cell_type": "code",
   "execution_count": 1,
   "metadata": {},
   "outputs": [
    {
     "name": "stdout",
     "output_type": "stream",
     "text": [
      "Welcome to To-Do Application\n",
      "What do you want to do in the application? Type add, delete, taskdone, showlist: add\n",
      "Please input a task you wish to add to the list or type q to exit input program: hello\n",
      "Is this task a high priority or a low priority task?: high\n",
      "Added to the top of your list\n",
      "Please input a task you wish to add to the list or type q to exit input program: yellow\n",
      "Is this task a high priority or a low priority task?: low\n",
      "Added to the end of your to-do list\n",
      "Please input a task you wish to add to the list or type q to exit input program: q\n",
      "Do you wish to return to main program? yes\n",
      "What do you want to do in the application? Type add, delete, taskdone, showlist: delete\n",
      "Please input a task which is undone and you wish to delete or type q to exit: yellow\n",
      "Do you want to see the updated list?yes\n",
      "['hello']\n",
      "Please input a task which is undone and you wish to delete or type q to exit: q\n",
      "Do you wish to return to main program? yes\n",
      "What do you want to do in the application? Type add, delete, taskdone, showlist: taskdone\n",
      "Input task completed or type q to exit? hello\n",
      "['hello']\n",
      "Input task completed or type q to exit? q\n",
      "Do you wish to return to main program? yes\n",
      "What do you want to do in the application? Type add, delete, taskdone, showlist: add\n",
      "Please input a task you wish to add to the list or type q to exit input program: bye\n",
      "Is this task a high priority or a low priority task?: low\n",
      "Added to the end of your to-do list\n",
      "Please input a task you wish to add to the list or type q to exit input program: q\n",
      "Do you wish to return to main program? yes\n",
      "What do you want to do in the application? Type add, delete, taskdone, showlist: showlist\n",
      "['bye']\n",
      "Do you wish to return to main program? no\n"
     ]
    }
   ],
   "source": [
    "print(\"Welcome to To-Do Application\")\n",
    "todo = []\n",
    "tasksdone = []\n",
    "returntomain = \"yes\"\n",
    "while True:\n",
    "    while True:\n",
    "        userinput = input(\"What do you want to do in the application? Type add, delete, taskdone, showlist: \").lower()\n",
    "        if userinput == \"add\" or userinput == \"taskdone\" or userinput == \"delete\" or userinput == \"showlist\":\n",
    "            break\n",
    "\n",
    "    while userinput == \"add\":\n",
    "        addmore = \"yes\"\n",
    "        taskadd = input(\"Please input a task you wish to add to the list or type q to exit input program: \")\n",
    "        if taskadd != \"q\":\n",
    "            priority = input(\"Is this task a high priority or a low priority task?: \").lower()\n",
    "            if priority == 'low':\n",
    "                todo.append(taskadd)\n",
    "                print(\"Added to the end of your to-do list\")\n",
    "            elif priority == 'high':\n",
    "                todo.insert(0, taskadd)\n",
    "                print(\"Added to the top of your list\")\n",
    "            else:\n",
    "                print(\"Invalid Priority\")\n",
    "        elif taskadd == \"q\":\n",
    "            break\n",
    "\n",
    "    # DAY 1 TASK ADD completed.\n",
    "\n",
    "    while userinput == \"delete\":  # Day 2 task delete\n",
    "\n",
    "        taskdel = input(\"Please input a task which is undone and you wish to delete or type q to exit: \")\n",
    "        if taskdel != \"q\":\n",
    "            if taskdel in todo:\n",
    "                todo.remove(taskdel)\n",
    "                showupdatedlist = input(\"Do you want to see the updated list?\").lower()\n",
    "                if showupdatedlist == \"yes\":\n",
    "                    print(todo)\n",
    "                elif showupdatedlist == \"no\":\n",
    "                    print(\"Ok.\")\n",
    "            else:\n",
    "                print(\"Item not in list, please input a valid item.\")\n",
    "        elif taskdel == \"q\":\n",
    "            break\n",
    "    keep_running = True\n",
    "    #Day 3 tasks\n",
    "    while userinput == \"showlist\":\n",
    "        print(todo)\n",
    "        break\n",
    "    while userinput == \"taskdone\":\n",
    "        taskdone = input(\"Input task completed or type q to exit? \")\n",
    "        if taskdone in todo:\n",
    "            tasksdone.append(todo.pop(todo.index(taskdone)))\n",
    "            print(tasksdone)\n",
    "        elif taskdone == \"q\":\n",
    "            break\n",
    "        else:\n",
    "            print(\"This item is not in list.\")\n",
    "    #Day 4 Project completed.\n",
    "\n",
    "    returntomain = input(\"Do you wish to return to main program? \").lower()\n",
    "    if returntomain == \"no\":\n",
    "        break"
   ]
  },
  {
   "cell_type": "code",
   "execution_count": null,
   "metadata": {},
   "outputs": [],
   "source": [
    "    "
   ]
  },
  {
   "cell_type": "code",
   "execution_count": null,
   "metadata": {},
   "outputs": [],
   "source": []
  }
 ],
 "metadata": {
  "kernelspec": {
   "display_name": "Python 3",
   "language": "python",
   "name": "python3"
  },
  "language_info": {
   "codemirror_mode": {
    "name": "ipython",
    "version": 3
   },
   "file_extension": ".py",
   "mimetype": "text/x-python",
   "name": "python",
   "nbconvert_exporter": "python",
   "pygments_lexer": "ipython3",
   "version": "3.7.3"
  }
 },
 "nbformat": 4,
 "nbformat_minor": 2
}
